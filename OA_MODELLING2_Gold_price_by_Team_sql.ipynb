{
  "cells": [
    {
      "cell_type": "markdown",
      "id": "ca86b0d4",
      "metadata": {
        "id": "ca86b0d4"
      },
      "source": [
        "## Business Problem\n",
        "Historically, gold had been used as a form of currency in various parts of the world including the USA. In present times, precious metals like gold are held with central banks of all countries to guarantee re-payment of foreign debts, and also to control inflation which results in reflecting the financial strength of the country. Recently, emerging world economies, such as China, Russia, and India have been big buyers of gold, whereas the USA, SoUSA, South Africa, and Australia are among the big seller of gold.\n",
        "\n",
        "Fractional change in gold price may result in huge profit or loss for investors as well as government banks.\n",
        "Forecasting rise and fall in the daily gold rates can help investors to decide when to buy (or sell) the commodity. But Gold prices are dependent on many factors such as prices of other precious metals, prices of crude oil, stock exchange performance, Bonds prices, currency exchange rates, etc.\n"
      ]
    },
    {
      "cell_type": "code",
      "source": [
        "from google.colab import drive\n",
        "drive.mount('/content/drive')"
      ],
      "metadata": {
        "colab": {
          "base_uri": "https://localhost:8080/"
        },
        "id": "RM1tO_kCe_Ul",
        "outputId": "a1f328e7-71d3-4675-e0cf-dc706add6dd1"
      },
      "id": "RM1tO_kCe_Ul",
      "execution_count": 1,
      "outputs": [
        {
          "output_type": "stream",
          "name": "stdout",
          "text": [
            "Mounted at /content/drive\n"
          ]
        }
      ]
    },
    {
      "cell_type": "markdown",
      "id": "a191289a",
      "metadata": {
        "id": "a191289a"
      },
      "source": [
        "#### Business Objectives and Constraints\n",
        "* To accurately predict the future adjusted closing price of Gold ETF (Exchang Traded Funds) across a given period of time in the future.\n",
        "* The model should not take too long to return prediction (Latency concerns)\n",
        "* To Maximize the Coefficient of determination (R2) as much as posible (the closer it is to 1 the better)\n",
        "* To minimize the Root Mean Squared Error (RMSE) as much as posible (the closer it is to zero the better) "
      ]
    },
    {
      "cell_type": "markdown",
      "id": "f6409a00",
      "metadata": {
        "id": "f6409a00"
      },
      "source": [
        "#### Type of Machine Learning Problem\n",
        "It is a Regression problem as the target variable (adjusted closing price) is a **continuous** value."
      ]
    },
    {
      "cell_type": "markdown",
      "id": "0f125918",
      "metadata": {
        "id": "0f125918"
      },
      "source": [
        "####  Performance Metric\n",
        "\n",
        "- R^2 score (Coefficient of determination)\n",
        "- RMSE (root mean squared error)"
      ]
    },
    {
      "cell_type": "markdown",
      "id": "eb5bf46e",
      "metadata": {
        "id": "eb5bf46e"
      },
      "source": [
        "### Data Overview\n",
        "- Data Source: https://www.kaggle.com/datasets/sid321axn/gold-price-prediction-dataset <br><br>\n",
        "- Data for this study is collected from November 18th 2011 to January 1st 2019 from various sources.<br><br>\n",
        "- The dataset has 1718 rows in total and 80 columns in total. Data for attributes, such as Oil Price, Standard and Poor’s (S&P) 500 index, Dow Jones Index US Bond rates (10 years), Euro USD exchange rates, prices of precious metals Silver and Platinum and other metals such as Palladium and Rhodium, prices of US Dollar Index, Eldorado Gold Corporation and Gold Miners ETF were gathered.<br><br>\n",
        "- The historical data of Gold ETF fetched from Yahoo finance has 7 columns, Date, Open, High, Low, Close, Adjusted Close, and Volume, the difference between Adjusted Close and Close is that the closing price of a stock is the price of that stock at the close of the trading day. Whereas the adjusted closing price takes into account factors such as dividends, stock splits, and new stock offerings to determine a value. So, Adjusted Close is the outcome variable which is the value you have to predict.\n",
        "\n"
      ]
    },
    {
      "cell_type": "code",
      "execution_count": 2,
      "id": "0fb144f9",
      "metadata": {
        "id": "0fb144f9"
      },
      "outputs": [],
      "source": [
        "import pandas as pd\n",
        "import numpy as np\n",
        "import matplotlib.pyplot as plt\n",
        "import seaborn as sns\n",
        "\n",
        "sns.set(context=\"notebook\", palette=\"coolwarm\", style = 'ticks' ,font_scale = 1.2, color_codes=True)"
      ]
    },
    {
      "cell_type": "markdown",
      "id": "4a70b67d",
      "metadata": {
        "id": "4a70b67d"
      },
      "source": [
        "## Loading Data"
      ]
    },
    {
      "cell_type": "code",
      "execution_count": 3,
      "id": "14dc58ab",
      "metadata": {
        "scrolled": true,
        "colab": {
          "base_uri": "https://localhost:8080/",
          "height": 292
        },
        "id": "14dc58ab",
        "outputId": "f6621af4-0c07-44c6-f30f-9739bf8a3793"
      },
      "outputs": [
        {
          "output_type": "execute_result",
          "data": {
            "text/plain": [
              "         Date        Open        High         Low       Close   Adj Close  \\\n",
              "0  2011-12-15  154.740005  154.949997  151.710007  152.330002  152.330002   \n",
              "1  2011-12-16  154.309998  155.369995  153.899994  155.229996  155.229996   \n",
              "\n",
              "     Volume     SP_open     SP_high      SP_low  ...    GDX_Low  GDX_Close  \\\n",
              "0  21521900  123.029999  123.199997  121.989998  ...  51.570000      51.68   \n",
              "1  18124300  122.230003  122.949997  121.300003  ...  52.040001      52.68   \n",
              "\n",
              "   GDX_Adj Close  GDX_Volume   USO_Open   USO_High    USO_Low  USO_Close  \\\n",
              "0      48.973877    20605600  36.900002  36.939999  36.049999  36.130001   \n",
              "1      49.921513    16285400  36.180000  36.500000  35.730000  36.270000   \n",
              "\n",
              "   USO_Adj Close  USO_Volume  \n",
              "0      36.130001    12616700  \n",
              "1      36.270000    12578800  \n",
              "\n",
              "[2 rows x 81 columns]"
            ],
            "text/html": [
              "\n",
              "  <div id=\"df-e205b2d5-2a44-4d22-983f-8540f14e6562\">\n",
              "    <div class=\"colab-df-container\">\n",
              "      <div>\n",
              "<style scoped>\n",
              "    .dataframe tbody tr th:only-of-type {\n",
              "        vertical-align: middle;\n",
              "    }\n",
              "\n",
              "    .dataframe tbody tr th {\n",
              "        vertical-align: top;\n",
              "    }\n",
              "\n",
              "    .dataframe thead th {\n",
              "        text-align: right;\n",
              "    }\n",
              "</style>\n",
              "<table border=\"1\" class=\"dataframe\">\n",
              "  <thead>\n",
              "    <tr style=\"text-align: right;\">\n",
              "      <th></th>\n",
              "      <th>Date</th>\n",
              "      <th>Open</th>\n",
              "      <th>High</th>\n",
              "      <th>Low</th>\n",
              "      <th>Close</th>\n",
              "      <th>Adj Close</th>\n",
              "      <th>Volume</th>\n",
              "      <th>SP_open</th>\n",
              "      <th>SP_high</th>\n",
              "      <th>SP_low</th>\n",
              "      <th>...</th>\n",
              "      <th>GDX_Low</th>\n",
              "      <th>GDX_Close</th>\n",
              "      <th>GDX_Adj Close</th>\n",
              "      <th>GDX_Volume</th>\n",
              "      <th>USO_Open</th>\n",
              "      <th>USO_High</th>\n",
              "      <th>USO_Low</th>\n",
              "      <th>USO_Close</th>\n",
              "      <th>USO_Adj Close</th>\n",
              "      <th>USO_Volume</th>\n",
              "    </tr>\n",
              "  </thead>\n",
              "  <tbody>\n",
              "    <tr>\n",
              "      <th>0</th>\n",
              "      <td>2011-12-15</td>\n",
              "      <td>154.740005</td>\n",
              "      <td>154.949997</td>\n",
              "      <td>151.710007</td>\n",
              "      <td>152.330002</td>\n",
              "      <td>152.330002</td>\n",
              "      <td>21521900</td>\n",
              "      <td>123.029999</td>\n",
              "      <td>123.199997</td>\n",
              "      <td>121.989998</td>\n",
              "      <td>...</td>\n",
              "      <td>51.570000</td>\n",
              "      <td>51.68</td>\n",
              "      <td>48.973877</td>\n",
              "      <td>20605600</td>\n",
              "      <td>36.900002</td>\n",
              "      <td>36.939999</td>\n",
              "      <td>36.049999</td>\n",
              "      <td>36.130001</td>\n",
              "      <td>36.130001</td>\n",
              "      <td>12616700</td>\n",
              "    </tr>\n",
              "    <tr>\n",
              "      <th>1</th>\n",
              "      <td>2011-12-16</td>\n",
              "      <td>154.309998</td>\n",
              "      <td>155.369995</td>\n",
              "      <td>153.899994</td>\n",
              "      <td>155.229996</td>\n",
              "      <td>155.229996</td>\n",
              "      <td>18124300</td>\n",
              "      <td>122.230003</td>\n",
              "      <td>122.949997</td>\n",
              "      <td>121.300003</td>\n",
              "      <td>...</td>\n",
              "      <td>52.040001</td>\n",
              "      <td>52.68</td>\n",
              "      <td>49.921513</td>\n",
              "      <td>16285400</td>\n",
              "      <td>36.180000</td>\n",
              "      <td>36.500000</td>\n",
              "      <td>35.730000</td>\n",
              "      <td>36.270000</td>\n",
              "      <td>36.270000</td>\n",
              "      <td>12578800</td>\n",
              "    </tr>\n",
              "  </tbody>\n",
              "</table>\n",
              "<p>2 rows × 81 columns</p>\n",
              "</div>\n",
              "      <button class=\"colab-df-convert\" onclick=\"convertToInteractive('df-e205b2d5-2a44-4d22-983f-8540f14e6562')\"\n",
              "              title=\"Convert this dataframe to an interactive table.\"\n",
              "              style=\"display:none;\">\n",
              "        \n",
              "  <svg xmlns=\"http://www.w3.org/2000/svg\" height=\"24px\"viewBox=\"0 0 24 24\"\n",
              "       width=\"24px\">\n",
              "    <path d=\"M0 0h24v24H0V0z\" fill=\"none\"/>\n",
              "    <path d=\"M18.56 5.44l.94 2.06.94-2.06 2.06-.94-2.06-.94-.94-2.06-.94 2.06-2.06.94zm-11 1L8.5 8.5l.94-2.06 2.06-.94-2.06-.94L8.5 2.5l-.94 2.06-2.06.94zm10 10l.94 2.06.94-2.06 2.06-.94-2.06-.94-.94-2.06-.94 2.06-2.06.94z\"/><path d=\"M17.41 7.96l-1.37-1.37c-.4-.4-.92-.59-1.43-.59-.52 0-1.04.2-1.43.59L10.3 9.45l-7.72 7.72c-.78.78-.78 2.05 0 2.83L4 21.41c.39.39.9.59 1.41.59.51 0 1.02-.2 1.41-.59l7.78-7.78 2.81-2.81c.8-.78.8-2.07 0-2.86zM5.41 20L4 18.59l7.72-7.72 1.47 1.35L5.41 20z\"/>\n",
              "  </svg>\n",
              "      </button>\n",
              "      \n",
              "  <style>\n",
              "    .colab-df-container {\n",
              "      display:flex;\n",
              "      flex-wrap:wrap;\n",
              "      gap: 12px;\n",
              "    }\n",
              "\n",
              "    .colab-df-convert {\n",
              "      background-color: #E8F0FE;\n",
              "      border: none;\n",
              "      border-radius: 50%;\n",
              "      cursor: pointer;\n",
              "      display: none;\n",
              "      fill: #1967D2;\n",
              "      height: 32px;\n",
              "      padding: 0 0 0 0;\n",
              "      width: 32px;\n",
              "    }\n",
              "\n",
              "    .colab-df-convert:hover {\n",
              "      background-color: #E2EBFA;\n",
              "      box-shadow: 0px 1px 2px rgba(60, 64, 67, 0.3), 0px 1px 3px 1px rgba(60, 64, 67, 0.15);\n",
              "      fill: #174EA6;\n",
              "    }\n",
              "\n",
              "    [theme=dark] .colab-df-convert {\n",
              "      background-color: #3B4455;\n",
              "      fill: #D2E3FC;\n",
              "    }\n",
              "\n",
              "    [theme=dark] .colab-df-convert:hover {\n",
              "      background-color: #434B5C;\n",
              "      box-shadow: 0px 1px 3px 1px rgba(0, 0, 0, 0.15);\n",
              "      filter: drop-shadow(0px 1px 2px rgba(0, 0, 0, 0.3));\n",
              "      fill: #FFFFFF;\n",
              "    }\n",
              "  </style>\n",
              "\n",
              "      <script>\n",
              "        const buttonEl =\n",
              "          document.querySelector('#df-e205b2d5-2a44-4d22-983f-8540f14e6562 button.colab-df-convert');\n",
              "        buttonEl.style.display =\n",
              "          google.colab.kernel.accessAllowed ? 'block' : 'none';\n",
              "\n",
              "        async function convertToInteractive(key) {\n",
              "          const element = document.querySelector('#df-e205b2d5-2a44-4d22-983f-8540f14e6562');\n",
              "          const dataTable =\n",
              "            await google.colab.kernel.invokeFunction('convertToInteractive',\n",
              "                                                     [key], {});\n",
              "          if (!dataTable) return;\n",
              "\n",
              "          const docLinkHtml = 'Like what you see? Visit the ' +\n",
              "            '<a target=\"_blank\" href=https://colab.research.google.com/notebooks/data_table.ipynb>data table notebook</a>'\n",
              "            + ' to learn more about interactive tables.';\n",
              "          element.innerHTML = '';\n",
              "          dataTable['output_type'] = 'display_data';\n",
              "          await google.colab.output.renderOutput(dataTable, element);\n",
              "          const docLink = document.createElement('div');\n",
              "          docLink.innerHTML = docLinkHtml;\n",
              "          element.appendChild(docLink);\n",
              "        }\n",
              "      </script>\n",
              "    </div>\n",
              "  </div>\n",
              "  "
            ]
          },
          "metadata": {},
          "execution_count": 3
        }
      ],
      "source": [
        "data = pd.read_csv(\"/content/drive/MyDrive/SQL WORK/FINAL_USO.csv\") #change the file path as applicable to you\n",
        "data.head(2)"
      ]
    },
    {
      "cell_type": "markdown",
      "id": "f8227bbb",
      "metadata": {
        "id": "f8227bbb"
      },
      "source": [
        "## Data Cleaning"
      ]
    },
    {
      "cell_type": "code",
      "execution_count": null,
      "id": "e856bf1a",
      "metadata": {
        "colab": {
          "base_uri": "https://localhost:8080/"
        },
        "id": "e856bf1a",
        "outputId": "62b1ce51-de65-4f0f-b5f0-70b83a72426b"
      },
      "outputs": [
        {
          "output_type": "execute_result",
          "data": {
            "text/plain": [
              "Index(['Date', 'Open', 'High', 'Low', 'Close', 'Adj Close', 'Volume',\n",
              "       'SP_open', 'SP_high', 'SP_low', 'SP_close', 'SP_Ajclose', 'SP_volume',\n",
              "       'DJ_open', 'DJ_high', 'DJ_low', 'DJ_close', 'DJ_Ajclose', 'DJ_volume',\n",
              "       'EG_open', 'EG_high', 'EG_low', 'EG_close', 'EG_Ajclose', 'EG_volume',\n",
              "       'EU_Price', 'EU_open', 'EU_high', 'EU_low', 'EU_Trend', 'OF_Price',\n",
              "       'OF_Open', 'OF_High', 'OF_Low', 'OF_Volume', 'OF_Trend', 'OS_Price',\n",
              "       'OS_Open', 'OS_High', 'OS_Low', 'OS_Trend', 'SF_Price', 'SF_Open',\n",
              "       'SF_High', 'SF_Low', 'SF_Volume', 'SF_Trend', 'USB_Price', 'USB_Open',\n",
              "       'USB_High', 'USB_Low', 'USB_Trend', 'PLT_Price', 'PLT_Open', 'PLT_High',\n",
              "       'PLT_Low', 'PLT_Trend', 'PLD_Price', 'PLD_Open', 'PLD_High', 'PLD_Low',\n",
              "       'PLD_Trend', 'RHO_PRICE', 'USDI_Price', 'USDI_Open', 'USDI_High',\n",
              "       'USDI_Low', 'USDI_Volume', 'USDI_Trend', 'GDX_Open', 'GDX_High',\n",
              "       'GDX_Low', 'GDX_Close', 'GDX_Adj Close', 'GDX_Volume', 'USO_Open',\n",
              "       'USO_High', 'USO_Low', 'USO_Close', 'USO_Adj Close', 'USO_Volume'],\n",
              "      dtype='object')"
            ]
          },
          "metadata": {},
          "execution_count": 6
        }
      ],
      "source": [
        "data.columns"
      ]
    },
    {
      "cell_type": "markdown",
      "id": "554f2c4f",
      "metadata": {
        "id": "554f2c4f"
      },
      "source": [
        "### Sanitary check"
      ]
    },
    {
      "cell_type": "code",
      "execution_count": null,
      "id": "25584a3f",
      "metadata": {
        "colab": {
          "base_uri": "https://localhost:8080/"
        },
        "id": "25584a3f",
        "outputId": "c1ba8401-d901-42e0-bdec-fc0649d6a1a0"
      },
      "outputs": [
        {
          "output_type": "stream",
          "name": "stdout",
          "text": [
            "<class 'pandas.core.frame.DataFrame'>\n",
            "RangeIndex: 1718 entries, 0 to 1717\n",
            "Data columns (total 81 columns):\n",
            " #   Column         Non-Null Count  Dtype  \n",
            "---  ------         --------------  -----  \n",
            " 0   Date           1718 non-null   object \n",
            " 1   Open           1718 non-null   float64\n",
            " 2   High           1718 non-null   float64\n",
            " 3   Low            1718 non-null   float64\n",
            " 4   Close          1718 non-null   float64\n",
            " 5   Adj Close      1718 non-null   float64\n",
            " 6   Volume         1718 non-null   int64  \n",
            " 7   SP_open        1718 non-null   float64\n",
            " 8   SP_high        1718 non-null   float64\n",
            " 9   SP_low         1718 non-null   float64\n",
            " 10  SP_close       1718 non-null   float64\n",
            " 11  SP_Ajclose     1718 non-null   float64\n",
            " 12  SP_volume      1718 non-null   int64  \n",
            " 13  DJ_open        1718 non-null   float64\n",
            " 14  DJ_high        1718 non-null   float64\n",
            " 15  DJ_low         1718 non-null   float64\n",
            " 16  DJ_close       1718 non-null   float64\n",
            " 17  DJ_Ajclose     1718 non-null   float64\n",
            " 18  DJ_volume      1718 non-null   int64  \n",
            " 19  EG_open        1718 non-null   float64\n",
            " 20  EG_high        1718 non-null   float64\n",
            " 21  EG_low         1718 non-null   float64\n",
            " 22  EG_close       1718 non-null   float64\n",
            " 23  EG_Ajclose     1718 non-null   float64\n",
            " 24  EG_volume      1718 non-null   int64  \n",
            " 25  EU_Price       1718 non-null   float64\n",
            " 26  EU_open        1718 non-null   float64\n",
            " 27  EU_high        1718 non-null   float64\n",
            " 28  EU_low         1718 non-null   float64\n",
            " 29  EU_Trend       1718 non-null   int64  \n",
            " 30  OF_Price       1718 non-null   float64\n",
            " 31  OF_Open        1718 non-null   float64\n",
            " 32  OF_High        1718 non-null   float64\n",
            " 33  OF_Low         1718 non-null   float64\n",
            " 34  OF_Volume      1718 non-null   int64  \n",
            " 35  OF_Trend       1718 non-null   int64  \n",
            " 36  OS_Price       1718 non-null   float64\n",
            " 37  OS_Open        1718 non-null   float64\n",
            " 38  OS_High        1718 non-null   float64\n",
            " 39  OS_Low         1718 non-null   float64\n",
            " 40  OS_Trend       1718 non-null   int64  \n",
            " 41  SF_Price       1718 non-null   int64  \n",
            " 42  SF_Open        1718 non-null   int64  \n",
            " 43  SF_High        1718 non-null   int64  \n",
            " 44  SF_Low         1718 non-null   int64  \n",
            " 45  SF_Volume      1718 non-null   int64  \n",
            " 46  SF_Trend       1718 non-null   int64  \n",
            " 47  USB_Price      1718 non-null   float64\n",
            " 48  USB_Open       1718 non-null   float64\n",
            " 49  USB_High       1718 non-null   float64\n",
            " 50  USB_Low        1718 non-null   float64\n",
            " 51  USB_Trend      1718 non-null   int64  \n",
            " 52  PLT_Price      1718 non-null   float64\n",
            " 53  PLT_Open       1718 non-null   float64\n",
            " 54  PLT_High       1718 non-null   float64\n",
            " 55  PLT_Low        1718 non-null   float64\n",
            " 56  PLT_Trend      1718 non-null   int64  \n",
            " 57  PLD_Price      1718 non-null   float64\n",
            " 58  PLD_Open       1718 non-null   float64\n",
            " 59  PLD_High       1718 non-null   float64\n",
            " 60  PLD_Low        1718 non-null   float64\n",
            " 61  PLD_Trend      1718 non-null   int64  \n",
            " 62  RHO_PRICE      1718 non-null   int64  \n",
            " 63  USDI_Price     1718 non-null   float64\n",
            " 64  USDI_Open      1718 non-null   float64\n",
            " 65  USDI_High      1718 non-null   float64\n",
            " 66  USDI_Low       1718 non-null   float64\n",
            " 67  USDI_Volume    1718 non-null   int64  \n",
            " 68  USDI_Trend     1718 non-null   int64  \n",
            " 69  GDX_Open       1718 non-null   float64\n",
            " 70  GDX_High       1718 non-null   float64\n",
            " 71  GDX_Low        1718 non-null   float64\n",
            " 72  GDX_Close      1718 non-null   float64\n",
            " 73  GDX_Adj Close  1718 non-null   float64\n",
            " 74  GDX_Volume     1718 non-null   int64  \n",
            " 75  USO_Open       1718 non-null   float64\n",
            " 76  USO_High       1718 non-null   float64\n",
            " 77  USO_Low        1718 non-null   float64\n",
            " 78  USO_Close      1718 non-null   float64\n",
            " 79  USO_Adj Close  1718 non-null   float64\n",
            " 80  USO_Volume     1718 non-null   int64  \n",
            "dtypes: float64(58), int64(22), object(1)\n",
            "memory usage: 1.1+ MB\n"
          ]
        }
      ],
      "source": [
        "#sanitory check to observe the datatypes of the features\n",
        "data.info()"
      ]
    },
    {
      "cell_type": "markdown",
      "id": "ee2b4850",
      "metadata": {
        "id": "ee2b4850"
      },
      "source": [
        "#### Observation:\n",
        "- No missing values\n",
        "- The `Date` feature is of type `object`."
      ]
    },
    {
      "cell_type": "code",
      "execution_count": 4,
      "id": "b7a9b8db",
      "metadata": {
        "id": "b7a9b8db"
      },
      "outputs": [],
      "source": [
        "#converting the datatype of \"Date\" feature from \"object\" to \"datetime\"\n",
        "data.Date = pd.to_datetime(data.Date, format=\"%Y-%m-%d\" )"
      ]
    },
    {
      "cell_type": "code",
      "execution_count": 5,
      "id": "c1d8d3bf",
      "metadata": {
        "colab": {
          "base_uri": "https://localhost:8080/"
        },
        "id": "c1d8d3bf",
        "outputId": "ba9358a1-99db-49db-c234-5c70131ac634"
      },
      "outputs": [
        {
          "output_type": "execute_result",
          "data": {
            "text/plain": [
              "False"
            ]
          },
          "metadata": {},
          "execution_count": 5
        }
      ],
      "source": [
        "#checking for any missing values\n",
        "data.isnull().values.any()"
      ]
    },
    {
      "cell_type": "markdown",
      "id": "56d58a11",
      "metadata": {
        "id": "56d58a11"
      },
      "source": [
        "It is observed that `Close` and `Adj Close` are duplicates of each other as shown below, hence the need to drop one (`Close`)"
      ]
    },
    {
      "cell_type": "code",
      "execution_count": null,
      "id": "716d9ffa",
      "metadata": {
        "colab": {
          "base_uri": "https://localhost:8080/",
          "height": 206
        },
        "id": "716d9ffa",
        "outputId": "e1620de1-6610-4e8b-f2f0-a5c058bfea46"
      },
      "outputs": [
        {
          "output_type": "execute_result",
          "data": {
            "text/plain": [
              "        Close   Adj Close\n",
              "0  152.330002  152.330002\n",
              "1  155.229996  155.229996\n",
              "2  154.869995  154.869995\n",
              "3  156.979996  156.979996\n",
              "4  157.160004  157.160004"
            ],
            "text/html": [
              "\n",
              "  <div id=\"df-0bc38ff1-c3e4-4c6b-854f-e9531c3034c2\">\n",
              "    <div class=\"colab-df-container\">\n",
              "      <div>\n",
              "<style scoped>\n",
              "    .dataframe tbody tr th:only-of-type {\n",
              "        vertical-align: middle;\n",
              "    }\n",
              "\n",
              "    .dataframe tbody tr th {\n",
              "        vertical-align: top;\n",
              "    }\n",
              "\n",
              "    .dataframe thead th {\n",
              "        text-align: right;\n",
              "    }\n",
              "</style>\n",
              "<table border=\"1\" class=\"dataframe\">\n",
              "  <thead>\n",
              "    <tr style=\"text-align: right;\">\n",
              "      <th></th>\n",
              "      <th>Close</th>\n",
              "      <th>Adj Close</th>\n",
              "    </tr>\n",
              "  </thead>\n",
              "  <tbody>\n",
              "    <tr>\n",
              "      <th>0</th>\n",
              "      <td>152.330002</td>\n",
              "      <td>152.330002</td>\n",
              "    </tr>\n",
              "    <tr>\n",
              "      <th>1</th>\n",
              "      <td>155.229996</td>\n",
              "      <td>155.229996</td>\n",
              "    </tr>\n",
              "    <tr>\n",
              "      <th>2</th>\n",
              "      <td>154.869995</td>\n",
              "      <td>154.869995</td>\n",
              "    </tr>\n",
              "    <tr>\n",
              "      <th>3</th>\n",
              "      <td>156.979996</td>\n",
              "      <td>156.979996</td>\n",
              "    </tr>\n",
              "    <tr>\n",
              "      <th>4</th>\n",
              "      <td>157.160004</td>\n",
              "      <td>157.160004</td>\n",
              "    </tr>\n",
              "  </tbody>\n",
              "</table>\n",
              "</div>\n",
              "      <button class=\"colab-df-convert\" onclick=\"convertToInteractive('df-0bc38ff1-c3e4-4c6b-854f-e9531c3034c2')\"\n",
              "              title=\"Convert this dataframe to an interactive table.\"\n",
              "              style=\"display:none;\">\n",
              "        \n",
              "  <svg xmlns=\"http://www.w3.org/2000/svg\" height=\"24px\"viewBox=\"0 0 24 24\"\n",
              "       width=\"24px\">\n",
              "    <path d=\"M0 0h24v24H0V0z\" fill=\"none\"/>\n",
              "    <path d=\"M18.56 5.44l.94 2.06.94-2.06 2.06-.94-2.06-.94-.94-2.06-.94 2.06-2.06.94zm-11 1L8.5 8.5l.94-2.06 2.06-.94-2.06-.94L8.5 2.5l-.94 2.06-2.06.94zm10 10l.94 2.06.94-2.06 2.06-.94-2.06-.94-.94-2.06-.94 2.06-2.06.94z\"/><path d=\"M17.41 7.96l-1.37-1.37c-.4-.4-.92-.59-1.43-.59-.52 0-1.04.2-1.43.59L10.3 9.45l-7.72 7.72c-.78.78-.78 2.05 0 2.83L4 21.41c.39.39.9.59 1.41.59.51 0 1.02-.2 1.41-.59l7.78-7.78 2.81-2.81c.8-.78.8-2.07 0-2.86zM5.41 20L4 18.59l7.72-7.72 1.47 1.35L5.41 20z\"/>\n",
              "  </svg>\n",
              "      </button>\n",
              "      \n",
              "  <style>\n",
              "    .colab-df-container {\n",
              "      display:flex;\n",
              "      flex-wrap:wrap;\n",
              "      gap: 12px;\n",
              "    }\n",
              "\n",
              "    .colab-df-convert {\n",
              "      background-color: #E8F0FE;\n",
              "      border: none;\n",
              "      border-radius: 50%;\n",
              "      cursor: pointer;\n",
              "      display: none;\n",
              "      fill: #1967D2;\n",
              "      height: 32px;\n",
              "      padding: 0 0 0 0;\n",
              "      width: 32px;\n",
              "    }\n",
              "\n",
              "    .colab-df-convert:hover {\n",
              "      background-color: #E2EBFA;\n",
              "      box-shadow: 0px 1px 2px rgba(60, 64, 67, 0.3), 0px 1px 3px 1px rgba(60, 64, 67, 0.15);\n",
              "      fill: #174EA6;\n",
              "    }\n",
              "\n",
              "    [theme=dark] .colab-df-convert {\n",
              "      background-color: #3B4455;\n",
              "      fill: #D2E3FC;\n",
              "    }\n",
              "\n",
              "    [theme=dark] .colab-df-convert:hover {\n",
              "      background-color: #434B5C;\n",
              "      box-shadow: 0px 1px 3px 1px rgba(0, 0, 0, 0.15);\n",
              "      filter: drop-shadow(0px 1px 2px rgba(0, 0, 0, 0.3));\n",
              "      fill: #FFFFFF;\n",
              "    }\n",
              "  </style>\n",
              "\n",
              "      <script>\n",
              "        const buttonEl =\n",
              "          document.querySelector('#df-0bc38ff1-c3e4-4c6b-854f-e9531c3034c2 button.colab-df-convert');\n",
              "        buttonEl.style.display =\n",
              "          google.colab.kernel.accessAllowed ? 'block' : 'none';\n",
              "\n",
              "        async function convertToInteractive(key) {\n",
              "          const element = document.querySelector('#df-0bc38ff1-c3e4-4c6b-854f-e9531c3034c2');\n",
              "          const dataTable =\n",
              "            await google.colab.kernel.invokeFunction('convertToInteractive',\n",
              "                                                     [key], {});\n",
              "          if (!dataTable) return;\n",
              "\n",
              "          const docLinkHtml = 'Like what you see? Visit the ' +\n",
              "            '<a target=\"_blank\" href=https://colab.research.google.com/notebooks/data_table.ipynb>data table notebook</a>'\n",
              "            + ' to learn more about interactive tables.';\n",
              "          element.innerHTML = '';\n",
              "          dataTable['output_type'] = 'display_data';\n",
              "          await google.colab.output.renderOutput(dataTable, element);\n",
              "          const docLink = document.createElement('div');\n",
              "          docLink.innerHTML = docLinkHtml;\n",
              "          element.appendChild(docLink);\n",
              "        }\n",
              "      </script>\n",
              "    </div>\n",
              "  </div>\n",
              "  "
            ]
          },
          "metadata": {},
          "execution_count": 10
        }
      ],
      "source": [
        "data[['Close', 'Adj Close']].head()"
      ]
    },
    {
      "cell_type": "code",
      "execution_count": null,
      "id": "5a03fb5c",
      "metadata": {
        "colab": {
          "base_uri": "https://localhost:8080/"
        },
        "id": "5a03fb5c",
        "outputId": "9fd30ef8-3615-4ea3-e211-aeec0be7d906"
      },
      "outputs": [
        {
          "output_type": "execute_result",
          "data": {
            "text/plain": [
              "True"
            ]
          },
          "metadata": {},
          "execution_count": 11
        }
      ],
      "source": [
        "#checking to see if features \"Close\" and \"Adj Close\" are duplicates\n",
        "(data.Close.values == data['Adj Close'].values).all()"
      ]
    },
    {
      "cell_type": "code",
      "execution_count": 6,
      "id": "39c9f851",
      "metadata": {
        "id": "39c9f851"
      },
      "outputs": [],
      "source": [
        "#droping the \"Close\" feature, since it's a duplicate of \"Adj Close\"\n",
        "data.drop('Close', axis=1, inplace=True)"
      ]
    },
    {
      "cell_type": "code",
      "execution_count": null,
      "id": "08dad9c2",
      "metadata": {
        "id": "08dad9c2"
      },
      "outputs": [],
      "source": [
        ""
      ]
    },
    {
      "cell_type": "markdown",
      "id": "e14f490c",
      "metadata": {
        "id": "e14f490c"
      },
      "source": [
        "## Exploratory Data Analysis"
      ]
    },
    {
      "cell_type": "code",
      "execution_count": null,
      "id": "c5df99e9",
      "metadata": {
        "colab": {
          "base_uri": "https://localhost:8080/",
          "height": 404
        },
        "id": "c5df99e9",
        "outputId": "1449e171-685d-48d9-88ae-1fb3b4fd1b21"
      },
      "outputs": [
        {
          "output_type": "execute_result",
          "data": {
            "text/plain": [
              "           Date        Open        High         Low   Adj Close    Volume  \\\n",
              "1713 2018-12-24  119.570000  120.139999  119.570000  120.019997   9736400   \n",
              "1714 2018-12-26  120.620003  121.000000  119.570000  119.660004  14293500   \n",
              "1715 2018-12-27  120.570000  120.900002  120.139999  120.570000  11874400   \n",
              "1716 2018-12-28  120.800003  121.080002  120.720001  121.059998   6864700   \n",
              "1717 2018-12-31  120.980003  121.260002  120.830002  121.250000   8449400   \n",
              "\n",
              "         SP_open     SP_high      SP_low    SP_close  ...    GDX_Low  \\\n",
              "1713  239.039993  240.839996  234.270004  234.339996  ...  20.650000   \n",
              "1714  235.970001  246.179993  233.759995  246.179993  ...  20.530001   \n",
              "1715  242.570007  248.289993  238.960007  248.070007  ...  20.700001   \n",
              "1716  249.580002  251.399994  246.449997  247.750000  ...  20.570000   \n",
              "1717  249.559998  250.190002  247.470001  249.919998  ...  20.559999   \n",
              "\n",
              "      GDX_Close  GDX_Adj Close  GDX_Volume  USO_Open  USO_High  USO_Low  \\\n",
              "1713  21.090000      21.090000    60507000      9.49      9.52     9.28   \n",
              "1714  20.620001      20.620001    76365200      9.25      9.92     9.23   \n",
              "1715  20.969999      20.969999    52393000      9.59      9.65     9.37   \n",
              "1716  20.600000      20.600000    49835000      9.54      9.65     9.38   \n",
              "1717  21.090000      21.090000    53866600      9.63      9.71     9.44   \n",
              "\n",
              "      USO_Close  USO_Adj Close  USO_Volume  \n",
              "1713       9.29           9.29    21598200  \n",
              "1714       9.90           9.90    40978800  \n",
              "1715       9.62           9.62    36578700  \n",
              "1716       9.53           9.53    22803400  \n",
              "1717       9.66           9.66    28417400  \n",
              "\n",
              "[5 rows x 80 columns]"
            ],
            "text/html": [
              "\n",
              "  <div id=\"df-25894d8e-e871-4f23-a68a-9aa2fe3d92ce\">\n",
              "    <div class=\"colab-df-container\">\n",
              "      <div>\n",
              "<style scoped>\n",
              "    .dataframe tbody tr th:only-of-type {\n",
              "        vertical-align: middle;\n",
              "    }\n",
              "\n",
              "    .dataframe tbody tr th {\n",
              "        vertical-align: top;\n",
              "    }\n",
              "\n",
              "    .dataframe thead th {\n",
              "        text-align: right;\n",
              "    }\n",
              "</style>\n",
              "<table border=\"1\" class=\"dataframe\">\n",
              "  <thead>\n",
              "    <tr style=\"text-align: right;\">\n",
              "      <th></th>\n",
              "      <th>Date</th>\n",
              "      <th>Open</th>\n",
              "      <th>High</th>\n",
              "      <th>Low</th>\n",
              "      <th>Adj Close</th>\n",
              "      <th>Volume</th>\n",
              "      <th>SP_open</th>\n",
              "      <th>SP_high</th>\n",
              "      <th>SP_low</th>\n",
              "      <th>SP_close</th>\n",
              "      <th>...</th>\n",
              "      <th>GDX_Low</th>\n",
              "      <th>GDX_Close</th>\n",
              "      <th>GDX_Adj Close</th>\n",
              "      <th>GDX_Volume</th>\n",
              "      <th>USO_Open</th>\n",
              "      <th>USO_High</th>\n",
              "      <th>USO_Low</th>\n",
              "      <th>USO_Close</th>\n",
              "      <th>USO_Adj Close</th>\n",
              "      <th>USO_Volume</th>\n",
              "    </tr>\n",
              "  </thead>\n",
              "  <tbody>\n",
              "    <tr>\n",
              "      <th>1713</th>\n",
              "      <td>2018-12-24</td>\n",
              "      <td>119.570000</td>\n",
              "      <td>120.139999</td>\n",
              "      <td>119.570000</td>\n",
              "      <td>120.019997</td>\n",
              "      <td>9736400</td>\n",
              "      <td>239.039993</td>\n",
              "      <td>240.839996</td>\n",
              "      <td>234.270004</td>\n",
              "      <td>234.339996</td>\n",
              "      <td>...</td>\n",
              "      <td>20.650000</td>\n",
              "      <td>21.090000</td>\n",
              "      <td>21.090000</td>\n",
              "      <td>60507000</td>\n",
              "      <td>9.49</td>\n",
              "      <td>9.52</td>\n",
              "      <td>9.28</td>\n",
              "      <td>9.29</td>\n",
              "      <td>9.29</td>\n",
              "      <td>21598200</td>\n",
              "    </tr>\n",
              "    <tr>\n",
              "      <th>1714</th>\n",
              "      <td>2018-12-26</td>\n",
              "      <td>120.620003</td>\n",
              "      <td>121.000000</td>\n",
              "      <td>119.570000</td>\n",
              "      <td>119.660004</td>\n",
              "      <td>14293500</td>\n",
              "      <td>235.970001</td>\n",
              "      <td>246.179993</td>\n",
              "      <td>233.759995</td>\n",
              "      <td>246.179993</td>\n",
              "      <td>...</td>\n",
              "      <td>20.530001</td>\n",
              "      <td>20.620001</td>\n",
              "      <td>20.620001</td>\n",
              "      <td>76365200</td>\n",
              "      <td>9.25</td>\n",
              "      <td>9.92</td>\n",
              "      <td>9.23</td>\n",
              "      <td>9.90</td>\n",
              "      <td>9.90</td>\n",
              "      <td>40978800</td>\n",
              "    </tr>\n",
              "    <tr>\n",
              "      <th>1715</th>\n",
              "      <td>2018-12-27</td>\n",
              "      <td>120.570000</td>\n",
              "      <td>120.900002</td>\n",
              "      <td>120.139999</td>\n",
              "      <td>120.570000</td>\n",
              "      <td>11874400</td>\n",
              "      <td>242.570007</td>\n",
              "      <td>248.289993</td>\n",
              "      <td>238.960007</td>\n",
              "      <td>248.070007</td>\n",
              "      <td>...</td>\n",
              "      <td>20.700001</td>\n",
              "      <td>20.969999</td>\n",
              "      <td>20.969999</td>\n",
              "      <td>52393000</td>\n",
              "      <td>9.59</td>\n",
              "      <td>9.65</td>\n",
              "      <td>9.37</td>\n",
              "      <td>9.62</td>\n",
              "      <td>9.62</td>\n",
              "      <td>36578700</td>\n",
              "    </tr>\n",
              "    <tr>\n",
              "      <th>1716</th>\n",
              "      <td>2018-12-28</td>\n",
              "      <td>120.800003</td>\n",
              "      <td>121.080002</td>\n",
              "      <td>120.720001</td>\n",
              "      <td>121.059998</td>\n",
              "      <td>6864700</td>\n",
              "      <td>249.580002</td>\n",
              "      <td>251.399994</td>\n",
              "      <td>246.449997</td>\n",
              "      <td>247.750000</td>\n",
              "      <td>...</td>\n",
              "      <td>20.570000</td>\n",
              "      <td>20.600000</td>\n",
              "      <td>20.600000</td>\n",
              "      <td>49835000</td>\n",
              "      <td>9.54</td>\n",
              "      <td>9.65</td>\n",
              "      <td>9.38</td>\n",
              "      <td>9.53</td>\n",
              "      <td>9.53</td>\n",
              "      <td>22803400</td>\n",
              "    </tr>\n",
              "    <tr>\n",
              "      <th>1717</th>\n",
              "      <td>2018-12-31</td>\n",
              "      <td>120.980003</td>\n",
              "      <td>121.260002</td>\n",
              "      <td>120.830002</td>\n",
              "      <td>121.250000</td>\n",
              "      <td>8449400</td>\n",
              "      <td>249.559998</td>\n",
              "      <td>250.190002</td>\n",
              "      <td>247.470001</td>\n",
              "      <td>249.919998</td>\n",
              "      <td>...</td>\n",
              "      <td>20.559999</td>\n",
              "      <td>21.090000</td>\n",
              "      <td>21.090000</td>\n",
              "      <td>53866600</td>\n",
              "      <td>9.63</td>\n",
              "      <td>9.71</td>\n",
              "      <td>9.44</td>\n",
              "      <td>9.66</td>\n",
              "      <td>9.66</td>\n",
              "      <td>28417400</td>\n",
              "    </tr>\n",
              "  </tbody>\n",
              "</table>\n",
              "<p>5 rows × 80 columns</p>\n",
              "</div>\n",
              "      <button class=\"colab-df-convert\" onclick=\"convertToInteractive('df-25894d8e-e871-4f23-a68a-9aa2fe3d92ce')\"\n",
              "              title=\"Convert this dataframe to an interactive table.\"\n",
              "              style=\"display:none;\">\n",
              "        \n",
              "  <svg xmlns=\"http://www.w3.org/2000/svg\" height=\"24px\"viewBox=\"0 0 24 24\"\n",
              "       width=\"24px\">\n",
              "    <path d=\"M0 0h24v24H0V0z\" fill=\"none\"/>\n",
              "    <path d=\"M18.56 5.44l.94 2.06.94-2.06 2.06-.94-2.06-.94-.94-2.06-.94 2.06-2.06.94zm-11 1L8.5 8.5l.94-2.06 2.06-.94-2.06-.94L8.5 2.5l-.94 2.06-2.06.94zm10 10l.94 2.06.94-2.06 2.06-.94-2.06-.94-.94-2.06-.94 2.06-2.06.94z\"/><path d=\"M17.41 7.96l-1.37-1.37c-.4-.4-.92-.59-1.43-.59-.52 0-1.04.2-1.43.59L10.3 9.45l-7.72 7.72c-.78.78-.78 2.05 0 2.83L4 21.41c.39.39.9.59 1.41.59.51 0 1.02-.2 1.41-.59l7.78-7.78 2.81-2.81c.8-.78.8-2.07 0-2.86zM5.41 20L4 18.59l7.72-7.72 1.47 1.35L5.41 20z\"/>\n",
              "  </svg>\n",
              "      </button>\n",
              "      \n",
              "  <style>\n",
              "    .colab-df-container {\n",
              "      display:flex;\n",
              "      flex-wrap:wrap;\n",
              "      gap: 12px;\n",
              "    }\n",
              "\n",
              "    .colab-df-convert {\n",
              "      background-color: #E8F0FE;\n",
              "      border: none;\n",
              "      border-radius: 50%;\n",
              "      cursor: pointer;\n",
              "      display: none;\n",
              "      fill: #1967D2;\n",
              "      height: 32px;\n",
              "      padding: 0 0 0 0;\n",
              "      width: 32px;\n",
              "    }\n",
              "\n",
              "    .colab-df-convert:hover {\n",
              "      background-color: #E2EBFA;\n",
              "      box-shadow: 0px 1px 2px rgba(60, 64, 67, 0.3), 0px 1px 3px 1px rgba(60, 64, 67, 0.15);\n",
              "      fill: #174EA6;\n",
              "    }\n",
              "\n",
              "    [theme=dark] .colab-df-convert {\n",
              "      background-color: #3B4455;\n",
              "      fill: #D2E3FC;\n",
              "    }\n",
              "\n",
              "    [theme=dark] .colab-df-convert:hover {\n",
              "      background-color: #434B5C;\n",
              "      box-shadow: 0px 1px 3px 1px rgba(0, 0, 0, 0.15);\n",
              "      filter: drop-shadow(0px 1px 2px rgba(0, 0, 0, 0.3));\n",
              "      fill: #FFFFFF;\n",
              "    }\n",
              "  </style>\n",
              "\n",
              "      <script>\n",
              "        const buttonEl =\n",
              "          document.querySelector('#df-25894d8e-e871-4f23-a68a-9aa2fe3d92ce button.colab-df-convert');\n",
              "        buttonEl.style.display =\n",
              "          google.colab.kernel.accessAllowed ? 'block' : 'none';\n",
              "\n",
              "        async function convertToInteractive(key) {\n",
              "          const element = document.querySelector('#df-25894d8e-e871-4f23-a68a-9aa2fe3d92ce');\n",
              "          const dataTable =\n",
              "            await google.colab.kernel.invokeFunction('convertToInteractive',\n",
              "                                                     [key], {});\n",
              "          if (!dataTable) return;\n",
              "\n",
              "          const docLinkHtml = 'Like what you see? Visit the ' +\n",
              "            '<a target=\"_blank\" href=https://colab.research.google.com/notebooks/data_table.ipynb>data table notebook</a>'\n",
              "            + ' to learn more about interactive tables.';\n",
              "          element.innerHTML = '';\n",
              "          dataTable['output_type'] = 'display_data';\n",
              "          await google.colab.output.renderOutput(dataTable, element);\n",
              "          const docLink = document.createElement('div');\n",
              "          docLink.innerHTML = docLinkHtml;\n",
              "          element.appendChild(docLink);\n",
              "        }\n",
              "      </script>\n",
              "    </div>\n",
              "  </div>\n",
              "  "
            ]
          },
          "metadata": {},
          "execution_count": 13
        }
      ],
      "source": [
        "data.tail()"
      ]
    },
    {
      "cell_type": "markdown",
      "id": "ac936ba0",
      "metadata": {
        "id": "ac936ba0"
      },
      "source": [
        "### Transforming the dataframe into a time series by turning the \"Date\" feature to index"
      ]
    },
    {
      "cell_type": "code",
      "execution_count": 7,
      "id": "436d4e61",
      "metadata": {
        "id": "436d4e61"
      },
      "outputs": [],
      "source": [
        "#Transform dataframe into a time series by turning the \"Date\" feature into index\n",
        "data.set_index('Date', inplace=True)"
      ]
    },
    {
      "cell_type": "markdown",
      "id": "3d424505",
      "metadata": {
        "id": "3d424505"
      },
      "source": [
        "### Plot of Gold price over time\n",
        "Lets plot just the target variable against time and check for seasonality and trend (how the prices of gold varies over time)"
      ]
    },
    {
      "cell_type": "code",
      "execution_count": null,
      "id": "0360e54b",
      "metadata": {
        "colab": {
          "base_uri": "https://localhost:8080/",
          "height": 360
        },
        "id": "0360e54b",
        "outputId": "3b9cd163-e41d-40a8-df08-cfe3b23a817c"
      },
      "outputs": [
        {
          "output_type": "display_data",
          "data": {
            "text/plain": [
              "<Figure size 720x360 with 1 Axes>"
            ],
            "image/png": "[encoded data removed]"
          },
          "metadata": {}
        }
      ],
      "source": [
        "#data['Adj Close'].plot()\n",
        "plt.figure(figsize=(10,5))\n",
        "plt.plot(data['Adj Close'])\n",
        "plt.xlabel('Year')\n",
        "plt.ylabel('Price [USD]')\n",
        "plt.title('Gold Prices')\n",
        "plt.grid()\n",
        "plt.show()"
      ]
    },
    {
      "cell_type": "markdown",
      "id": "f8cac329",
      "metadata": {
        "id": "f8cac329"
      },
      "source": [
        "### Observation\n",
        "Here we can clearly see that gold prices are very high in the time period of 2012 to 2013. And since then, there has been a general decline in the price till 2016, then a little rise between 2016 and late 2018 with some fluctuations in between."
      ]
    },
    {
      "cell_type": "markdown",
      "id": "87fe1ab0",
      "metadata": {
        "id": "87fe1ab0"
      },
      "source": [
        "### Zooming in to the last 3 years of data\n",
        "Lets have a closer look at the trend for the last 3 years"
      ]
    },
    {
      "cell_type": "code",
      "execution_count": null,
      "id": "efe86aa8",
      "metadata": {
        "colab": {
          "base_uri": "https://localhost:8080/",
          "height": 396
        },
        "id": "efe86aa8",
        "outputId": "c397ac5e-c2c5-4028-eb70-7da6239f80f2"
      },
      "outputs": [
        {
          "output_type": "display_data",
          "data": {
            "text/plain": [
              "<Figure size 720x360 with 1 Axes>"
            ],
            "image/png": "[encoded data removed]"
          },
          "metadata": {}
        }
      ],
      "source": [
        "last_3_years = data['Adj Close'].loc[data.index>='2016-01-01']\n",
        "plt.figure(figsize=(10,5))\n",
        "plt.plot(last_3_years)\n",
        "plt.xlabel('Year')\n",
        "plt.xticks(rotation=45)\n",
        "plt.ylabel('Price [USD]')\n",
        "plt.title('Gold Prices')\n",
        "plt.grid()\n",
        "plt.show()"
      ]
    },
    {
      "cell_type": "markdown",
      "id": "7d1acbc6",
      "metadata": {
        "id": "7d1acbc6"
      },
      "source": [
        "### Zooming in closer to the last 2 years of data\n",
        "Lets have a closer look at the trend for the last 2 years, we may be able to see things more clearly"
      ]
    },
    {
      "cell_type": "code",
      "execution_count": null,
      "id": "4e467a58",
      "metadata": {
        "colab": {
          "base_uri": "https://localhost:8080/",
          "height": 396
        },
        "id": "4e467a58",
        "outputId": "e7e2df20-e6ff-4231-c310-0d06e7a8ecb2"
      },
      "outputs": [
        {
          "output_type": "display_data",
          "data": {
            "text/plain": [
              "<Figure size 720x360 with 1 Axes>"
            ],
            "image/png": "[encoded data removed]"
          },
          "metadata": {}
        }
      ],
      "source": [
        "last_2_years = data['Adj Close'].loc[data.index>='2017-01-01']\n",
        "plt.figure(figsize=(10,5))\n",
        "plt.plot(last_2_years)\n",
        "plt.xlabel('Year')\n",
        "plt.xticks(rotation=45)\n",
        "plt.ylabel('Price [USD]')\n",
        "plt.title('Gold Prices')\n",
        "plt.grid()\n",
        "plt.show()"
      ]
    },
    {
      "cell_type": "markdown",
      "id": "1e7bd970",
      "metadata": {
        "id": "1e7bd970"
      },
      "source": [
        "### Observation\n",
        "As we zoom closer, we observed that there exist some level of seasonality in the Gold Prices and some seasonality are higher than others, hence the need to transform the seasonality into a stationary data by subtracting the previous seasonality from the current seasonality."
      ]
    },
    {
      "cell_type": "markdown",
      "id": "cab4ee15",
      "metadata": {
        "id": "cab4ee15"
      },
      "source": [
        "### Zooming in even closer to just last one year of data"
      ]
    },
    {
      "cell_type": "code",
      "execution_count": null,
      "id": "f3c6c5a3",
      "metadata": {
        "colab": {
          "base_uri": "https://localhost:8080/",
          "height": 396
        },
        "id": "f3c6c5a3",
        "outputId": "55580fe4-b74d-46a1-f78b-ff961678b53a"
      },
      "outputs": [
        {
          "output_type": "display_data",
          "data": {
            "text/plain": [
              "<Figure size 720x360 with 1 Axes>"
            ],
            "image/png": "[encoded data removed]"
          },
          "metadata": {}
        }
      ],
      "source": [
        "last_1_years = data['Adj Close'].loc[data.index>='2018-01-01']\n",
        "plt.figure(figsize=(10,5))\n",
        "plt.plot(last_1_years)\n",
        "plt.xlabel('Year')\n",
        "plt.xticks(rotation=45)\n",
        "plt.ylabel('Price [USD]')\n",
        "plt.title('Gold Prices')\n",
        "plt.grid()\n",
        "plt.show()"
      ]
    },
    {
      "cell_type": "markdown",
      "id": "a850e498",
      "metadata": {
        "id": "a850e498"
      },
      "source": [
        "### Observation\n",
        "Looking at the graph above, it can be seen that the first quarter (Jan to Apr) of 2018 recorded the highest and steady price of Gold for the year, after which there was a steady decline up till mid August, then increases a little and remain almost steady till around mid September before it then started recording a almost steady increace till the end of the year (2018). But on a high level note, 2018 recorded a general decreasing trend in Gold Price."
      ]
    },
    {
      "cell_type": "markdown",
      "id": "1d31ddb2",
      "metadata": {
        "id": "1d31ddb2"
      },
      "source": [
        "## AutoCorrelation:\n",
        "Autocorrelation is the correlation of a point in the series with a point with lag (previous point) taken as one day of the same series. If a series show a positive autocorrelation then we say the series is **momentum** (trend following) and if the series shows a negative autocorrelation then we say the series is **mean reversing**. (Mean reversion is a financial term for the assumption that an asset's price will tend to converge to the average price over time, read more about **Mean reversion** [here](https://en.wikipedia.org/wiki/Mean_reversion_(finance)))\n",
        "\n",
        "In python we can use pandas autocorr() function to calculate autocorrelation of a series."
      ]
    },
    {
      "cell_type": "code",
      "execution_count": null,
      "id": "7b2c557c",
      "metadata": {
        "colab": {
          "base_uri": "https://localhost:8080/"
        },
        "id": "7b2c557c",
        "outputId": "794e3a8b-54a1-41bd-8042-b3ed4776643e"
      },
      "outputs": [
        {
          "output_type": "stream",
          "name": "stdout",
          "text": [
            "0.9974383274693519\n"
          ]
        }
      ],
      "source": [
        "#calculating the Autocorrelation of the \"Adj Close\" using the python's inbuild \"autocorr()\" function\n",
        "print(data['Adj Close'].autocorr())"
      ]
    },
    {
      "cell_type": "markdown",
      "id": "10bd8f1b",
      "metadata": {
        "id": "10bd8f1b"
      },
      "source": [
        "### Observation\n",
        "Here the autocorrelation value is positive and high (**0.997438**), hence we can conclude that the series is a trend following series."
      ]
    },
    {
      "cell_type": "markdown",
      "id": "0ae5d2d5",
      "metadata": {
        "id": "0ae5d2d5"
      },
      "source": [
        "## Percentage Change\n",
        "Lets use the pct_change() function available in pandas to see how the prices of Gold changes over a time lag in days.\n",
        "This is useful in comparing the percentage of change in a time series of elements.\n",
        "This function by default calculates the percentage change from the immediately previous row. It output first row as NaN so we have to apply dropna(). Here we test percent change in gold price to check that series is a random walk or not."
      ]
    },
    {
      "cell_type": "code",
      "execution_count": null,
      "id": "710da967",
      "metadata": {
        "colab": {
          "base_uri": "https://localhost:8080/"
        },
        "id": "710da967",
        "outputId": "abb48691-d78b-4993-86ac-deba2e2cf359"
      },
      "outputs": [
        {
          "output_type": "stream",
          "name": "stdout",
          "text": [
            "The % change of any current price from the last 20 days is: 0.0015%\n"
          ]
        },
        {
          "output_type": "stream",
          "name": "stderr",
          "text": [
            "/usr/local/lib/python3.7/dist-packages/statsmodels/tools/_testing.py:19: FutureWarning: pandas.util.testing is deprecated. Use the functions in the public API at pandas.testing instead.\n",
            "  import pandas.util.testing as tm\n"
          ]
        }
      ],
      "source": [
        "from statsmodels.tsa.stattools import adfuller\n",
        "time_period = 20\n",
        "results = adfuller(data['Adj Close'].pct_change(periods=time_period).dropna())\n",
        "print(f'The % change of any current price from the last {time_period} days is: {round(results[1], 6)*100}%')"
      ]
    },
    {
      "cell_type": "markdown",
      "id": "fc243a83",
      "metadata": {
        "id": "fc243a83"
      },
      "source": [
        "### Observation on the percentage change\n",
        "The percentage change of any current price with that of 20 days ago is: 0.002%, which is a strong indication that the price of Gold at any given time $\\tau$ is not a random walk but a function of trend. Hence we may want to experiment by trying to predict the Gold price using just the trend information (with the help of **Autoregressive models**), then compare the result with the prediction that takes into account other features."
      ]
    },
    {
      "cell_type": "markdown",
      "id": "09569ed2",
      "metadata": {
        "id": "09569ed2"
      },
      "source": [
        "## Correlation of features to the target (\"Adj Close\")"
      ]
    },
    {
      "cell_type": "code",
      "execution_count": 9,
      "id": "bd047124",
      "metadata": {
        "colab": {
          "base_uri": "https://localhost:8080/",
          "height": 522
        },
        "id": "bd047124",
        "outputId": "4fee6eee-b80b-4f5d-a227-e836f46c305d"
      },
      "outputs": [
        {
          "output_type": "execute_result",
          "data": {
            "text/plain": [
              "                   Open      High       Low  Adj Close    Volume   SP_open  \\\n",
              "Open           1.000000  0.999515  0.999442   0.998976  0.251921 -0.684314   \n",
              "High           0.999515  1.000000  0.999262   0.999535  0.261064 -0.688118   \n",
              "Low            0.999442  0.999262  1.000000   0.999532  0.237031 -0.680911   \n",
              "Adj Close      0.998976  0.999535  0.999532   1.000000  0.246778 -0.684618   \n",
              "Volume         0.251921  0.261064  0.237031   0.246778  1.000000 -0.218726   \n",
              "...                 ...       ...       ...        ...       ...       ...   \n",
              "USO_High       0.634864  0.637208  0.633623   0.635311  0.083064 -0.774626   \n",
              "USO_Low        0.634277  0.636538  0.633140   0.634732  0.080475 -0.771235   \n",
              "USO_Close      0.635138  0.637483  0.633994   0.635675  0.081642 -0.773099   \n",
              "USO_Adj Close  0.635138  0.637483  0.633994   0.635675  0.081642 -0.773099   \n",
              "USO_Volume    -0.455920 -0.454913 -0.457628  -0.456193  0.069580  0.375568   \n",
              "\n",
              "                SP_high    SP_low  SP_close  SP_Ajclose  ...   GDX_Low  \\\n",
              "Open          -0.684597 -0.683464 -0.683998   -0.665788  ...  0.975479   \n",
              "High          -0.688365 -0.687325 -0.687817   -0.669657  ...  0.975650   \n",
              "Low           -0.681242 -0.679988 -0.680567   -0.662325  ...  0.975337   \n",
              "Adj Close     -0.684904 -0.683750 -0.684284   -0.666071  ...  0.975561   \n",
              "Volume        -0.216355 -0.223317 -0.220631   -0.208594  ...  0.241727   \n",
              "...                 ...       ...       ...         ...  ...       ...   \n",
              "USO_High      -0.775482 -0.773550 -0.774799   -0.786760  ...  0.614587   \n",
              "USO_Low       -0.772154 -0.770087 -0.771396   -0.783347  ...  0.613844   \n",
              "USO_Close     -0.773957 -0.771928 -0.773159   -0.785103  ...  0.614733   \n",
              "USO_Adj Close -0.773957 -0.771928 -0.773159   -0.785103  ...  0.614733   \n",
              "USO_Volume     0.377996  0.371390  0.374658    0.386096  ... -0.429839   \n",
              "\n",
              "               GDX_Close  GDX_Adj Close  GDX_Volume  USO_Open  USO_High  \\\n",
              "Open            0.974596       0.974098   -0.514230  0.634872  0.634864   \n",
              "High            0.975341       0.974746   -0.508782  0.637101  0.637208   \n",
              "Low             0.974568       0.974182   -0.519988  0.633591  0.633623   \n",
              "Adj Close       0.975459       0.974980   -0.514616  0.635197  0.635311   \n",
              "Volume          0.248752       0.250313    0.302225  0.082632  0.083064   \n",
              "...                  ...            ...         ...       ...       ...   \n",
              "USO_High        0.614766       0.600523   -0.522581  0.999857  1.000000   \n",
              "USO_Low         0.613931       0.599819   -0.523956  0.999848  0.999818   \n",
              "USO_Close       0.614915       0.600756   -0.523801  0.999699  0.999867   \n",
              "USO_Adj Close   0.614915       0.600756   -0.523801  0.999699  0.999867   \n",
              "USO_Volume     -0.426553      -0.421065    0.498816 -0.699000 -0.695678   \n",
              "\n",
              "                USO_Low  USO_Close  USO_Adj Close  USO_Volume  \n",
              "Open           0.634277   0.635138       0.635138   -0.455920  \n",
              "High           0.636538   0.637483       0.637483   -0.454913  \n",
              "Low            0.633140   0.633994       0.633994   -0.457628  \n",
              "Adj Close      0.634732   0.635675       0.635675   -0.456193  \n",
              "Volume         0.080475   0.081642       0.081642    0.069580  \n",
              "...                 ...        ...            ...         ...  \n",
              "USO_High       0.999818   0.999867       0.999867   -0.695678  \n",
              "USO_Low        1.000000   0.999879       0.999879   -0.702665  \n",
              "USO_Close      0.999879   1.000000       1.000000   -0.699221  \n",
              "USO_Adj Close  0.999879   1.000000       1.000000   -0.699221  \n",
              "USO_Volume    -0.702665  -0.699221      -0.699221    1.000000  \n",
              "\n",
              "[79 rows x 79 columns]"
            ],
            "text/html": [
              "\n",
              "  <div id=\"df-998ea02d-144e-448b-ae00-00aeb5664acb\">\n",
              "    <div class=\"colab-df-container\">\n",
              "      <div>\n",
              "<style scoped>\n",
              "    .dataframe tbody tr th:only-of-type {\n",
              "        vertical-align: middle;\n",
              "    }\n",
              "\n",
              "    .dataframe tbody tr th {\n",
              "        vertical-align: top;\n",
              "    }\n",
              "\n",
              "    .dataframe thead th {\n",
              "        text-align: right;\n",
              "    }\n",
              "</style>\n",
              "<table border=\"1\" class=\"dataframe\">\n",
              "  <thead>\n",
              "    <tr style=\"text-align: right;\">\n",
              "      <th></th>\n",
              "      <th>Open</th>\n",
              "      <th>High</th>\n",
              "      <th>Low</th>\n",
              "      <th>Adj Close</th>\n",
              "      <th>Volume</th>\n",
              "      <th>SP_open</th>\n",
              "      <th>SP_high</th>\n",
              "      <th>SP_low</th>\n",
              "      <th>SP_close</th>\n",
              "      <th>SP_Ajclose</th>\n",
              "      <th>...</th>\n",
              "      <th>GDX_Low</th>\n",
              "      <th>GDX_Close</th>\n",
              "      <th>GDX_Adj Close</th>\n",
              "      <th>GDX_Volume</th>\n",
              "      <th>USO_Open</th>\n",
              "      <th>USO_High</th>\n",
              "      <th>USO_Low</th>\n",
              "      <th>USO_Close</th>\n",
              "      <th>USO_Adj Close</th>\n",
              "      <th>USO_Volume</th>\n",
              "    </tr>\n",
              "  </thead>\n",
              "  <tbody>\n",
              "    <tr>\n",
              "      <th>Open</th>\n",
              "      <td>1.000000</td>\n",
              "      <td>0.999515</td>\n",
              "      <td>0.999442</td>\n",
              "      <td>0.998976</td>\n",
              "      <td>0.251921</td>\n",
              "      <td>-0.684314</td>\n",
              "      <td>-0.684597</td>\n",
              "      <td>-0.683464</td>\n",
              "      <td>-0.683998</td>\n",
              "      <td>-0.665788</td>\n",
              "      <td>...</td>\n",
              "      <td>0.975479</td>\n",
              "      <td>0.974596</td>\n",
              "      <td>0.974098</td>\n",
              "      <td>-0.514230</td>\n",
              "      <td>0.634872</td>\n",
              "      <td>0.634864</td>\n",
              "      <td>0.634277</td>\n",
              "      <td>0.635138</td>\n",
              "      <td>0.635138</td>\n",
              "      <td>-0.455920</td>\n",
              "    </tr>\n",
              "    <tr>\n",
              "      <th>High</th>\n",
              "      <td>0.999515</td>\n",
              "      <td>1.000000</td>\n",
              "      <td>0.999262</td>\n",
              "      <td>0.999535</td>\n",
              "      <td>0.261064</td>\n",
              "      <td>-0.688118</td>\n",
              "      <td>-0.688365</td>\n",
              "      <td>-0.687325</td>\n",
              "      <td>-0.687817</td>\n",
              "      <td>-0.669657</td>\n",
              "      <td>...</td>\n",
              "      <td>0.975650</td>\n",
              "      <td>0.975341</td>\n",
              "      <td>0.974746</td>\n",
              "      <td>-0.508782</td>\n",
              "      <td>0.637101</td>\n",
              "      <td>0.637208</td>\n",
              "      <td>0.636538</td>\n",
              "      <td>0.637483</td>\n",
              "      <td>0.637483</td>\n",
              "      <td>-0.454913</td>\n",
              "    </tr>\n",
              "    <tr>\n",
              "      <th>Low</th>\n",
              "      <td>0.999442</td>\n",
              "      <td>0.999262</td>\n",
              "      <td>1.000000</td>\n",
              "      <td>0.999532</td>\n",
              "      <td>0.237031</td>\n",
              "      <td>-0.680911</td>\n",
              "      <td>-0.681242</td>\n",
              "      <td>-0.679988</td>\n",
              "      <td>-0.680567</td>\n",
              "      <td>-0.662325</td>\n",
              "      <td>...</td>\n",
              "      <td>0.975337</td>\n",
              "      <td>0.974568</td>\n",
              "      <td>0.974182</td>\n",
              "      <td>-0.519988</td>\n",
              "      <td>0.633591</td>\n",
              "      <td>0.633623</td>\n",
              "      <td>0.633140</td>\n",
              "      <td>0.633994</td>\n",
              "      <td>0.633994</td>\n",
              "      <td>-0.457628</td>\n",
              "    </tr>\n",
              "    <tr>\n",
              "      <th>Adj Close</th>\n",
              "      <td>0.998976</td>\n",
              "      <td>0.999535</td>\n",
              "      <td>0.999532</td>\n",
              "      <td>1.000000</td>\n",
              "      <td>0.246778</td>\n",
              "      <td>-0.684618</td>\n",
              "      <td>-0.684904</td>\n",
              "      <td>-0.683750</td>\n",
              "      <td>-0.684284</td>\n",
              "      <td>-0.666071</td>\n",
              "      <td>...</td>\n",
              "      <td>0.975561</td>\n",
              "      <td>0.975459</td>\n",
              "      <td>0.974980</td>\n",
              "      <td>-0.514616</td>\n",
              "      <td>0.635197</td>\n",
              "      <td>0.635311</td>\n",
              "      <td>0.634732</td>\n",
              "      <td>0.635675</td>\n",
              "      <td>0.635675</td>\n",
              "      <td>-0.456193</td>\n",
              "    </tr>\n",
              "    <tr>\n",
              "      <th>Volume</th>\n",
              "      <td>0.251921</td>\n",
              "      <td>0.261064</td>\n",
              "      <td>0.237031</td>\n",
              "      <td>0.246778</td>\n",
              "      <td>1.000000</td>\n",
              "      <td>-0.218726</td>\n",
              "      <td>-0.216355</td>\n",
              "      <td>-0.223317</td>\n",
              "      <td>-0.220631</td>\n",
              "      <td>-0.208594</td>\n",
              "      <td>...</td>\n",
              "      <td>0.241727</td>\n",
              "      <td>0.248752</td>\n",
              "      <td>0.250313</td>\n",
              "      <td>0.302225</td>\n",
              "      <td>0.082632</td>\n",
              "      <td>0.083064</td>\n",
              "      <td>0.080475</td>\n",
              "      <td>0.081642</td>\n",
              "      <td>0.081642</td>\n",
              "      <td>0.069580</td>\n",
              "    </tr>\n",
              "    <tr>\n",
              "      <th>...</th>\n",
              "      <td>...</td>\n",
              "      <td>...</td>\n",
              "      <td>...</td>\n",
              "      <td>...</td>\n",
              "      <td>...</td>\n",
              "      <td>...</td>\n",
              "      <td>...</td>\n",
              "      <td>...</td>\n",
              "      <td>...</td>\n",
              "      <td>...</td>\n",
              "      <td>...</td>\n",
              "      <td>...</td>\n",
              "      <td>...</td>\n",
              "      <td>...</td>\n",
              "      <td>...</td>\n",
              "      <td>...</td>\n",
              "      <td>...</td>\n",
              "      <td>...</td>\n",
              "      <td>...</td>\n",
              "      <td>...</td>\n",
              "      <td>...</td>\n",
              "    </tr>\n",
              "    <tr>\n",
              "      <th>USO_High</th>\n",
              "      <td>0.634864</td>\n",
              "      <td>0.637208</td>\n",
              "      <td>0.633623</td>\n",
              "      <td>0.635311</td>\n",
              "      <td>0.083064</td>\n",
              "      <td>-0.774626</td>\n",
              "      <td>-0.775482</td>\n",
              "      <td>-0.773550</td>\n",
              "      <td>-0.774799</td>\n",
              "      <td>-0.786760</td>\n",
              "      <td>...</td>\n",
              "      <td>0.614587</td>\n",
              "      <td>0.614766</td>\n",
              "      <td>0.600523</td>\n",
              "      <td>-0.522581</td>\n",
              "      <td>0.999857</td>\n",
              "      <td>1.000000</td>\n",
              "      <td>0.999818</td>\n",
              "      <td>0.999867</td>\n",
              "      <td>0.999867</td>\n",
              "      <td>-0.695678</td>\n",
              "    </tr>\n",
              "    <tr>\n",
              "      <th>USO_Low</th>\n",
              "      <td>0.634277</td>\n",
              "      <td>0.636538</td>\n",
              "      <td>0.633140</td>\n",
              "      <td>0.634732</td>\n",
              "      <td>0.080475</td>\n",
              "      <td>-0.771235</td>\n",
              "      <td>-0.772154</td>\n",
              "      <td>-0.770087</td>\n",
              "      <td>-0.771396</td>\n",
              "      <td>-0.783347</td>\n",
              "      <td>...</td>\n",
              "      <td>0.613844</td>\n",
              "      <td>0.613931</td>\n",
              "      <td>0.599819</td>\n",
              "      <td>-0.523956</td>\n",
              "      <td>0.999848</td>\n",
              "      <td>0.999818</td>\n",
              "      <td>1.000000</td>\n",
              "      <td>0.999879</td>\n",
              "      <td>0.999879</td>\n",
              "      <td>-0.702665</td>\n",
              "    </tr>\n",
              "    <tr>\n",
              "      <th>USO_Close</th>\n",
              "      <td>0.635138</td>\n",
              "      <td>0.637483</td>\n",
              "      <td>0.633994</td>\n",
              "      <td>0.635675</td>\n",
              "      <td>0.081642</td>\n",
              "      <td>-0.773099</td>\n",
              "      <td>-0.773957</td>\n",
              "      <td>-0.771928</td>\n",
              "      <td>-0.773159</td>\n",
              "      <td>-0.785103</td>\n",
              "      <td>...</td>\n",
              "      <td>0.614733</td>\n",
              "      <td>0.614915</td>\n",
              "      <td>0.600756</td>\n",
              "      <td>-0.523801</td>\n",
              "      <td>0.999699</td>\n",
              "      <td>0.999867</td>\n",
              "      <td>0.999879</td>\n",
              "      <td>1.000000</td>\n",
              "      <td>1.000000</td>\n",
              "      <td>-0.699221</td>\n",
              "    </tr>\n",
              "    <tr>\n",
              "      <th>USO_Adj Close</th>\n",
              "      <td>0.635138</td>\n",
              "      <td>0.637483</td>\n",
              "      <td>0.633994</td>\n",
              "      <td>0.635675</td>\n",
              "      <td>0.081642</td>\n",
              "      <td>-0.773099</td>\n",
              "      <td>-0.773957</td>\n",
              "      <td>-0.771928</td>\n",
              "      <td>-0.773159</td>\n",
              "      <td>-0.785103</td>\n",
              "      <td>...</td>\n",
              "      <td>0.614733</td>\n",
              "      <td>0.614915</td>\n",
              "      <td>0.600756</td>\n",
              "      <td>-0.523801</td>\n",
              "      <td>0.999699</td>\n",
              "      <td>0.999867</td>\n",
              "      <td>0.999879</td>\n",
              "      <td>1.000000</td>\n",
              "      <td>1.000000</td>\n",
              "      <td>-0.699221</td>\n",
              "    </tr>\n",
              "    <tr>\n",
              "      <th>USO_Volume</th>\n",
              "      <td>-0.455920</td>\n",
              "      <td>-0.454913</td>\n",
              "      <td>-0.457628</td>\n",
              "      <td>-0.456193</td>\n",
              "      <td>0.069580</td>\n",
              "      <td>0.375568</td>\n",
              "      <td>0.377996</td>\n",
              "      <td>0.371390</td>\n",
              "      <td>0.374658</td>\n",
              "      <td>0.386096</td>\n",
              "      <td>...</td>\n",
              "      <td>-0.429839</td>\n",
              "      <td>-0.426553</td>\n",
              "      <td>-0.421065</td>\n",
              "      <td>0.498816</td>\n",
              "      <td>-0.699000</td>\n",
              "      <td>-0.695678</td>\n",
              "      <td>-0.702665</td>\n",
              "      <td>-0.699221</td>\n",
              "      <td>-0.699221</td>\n",
              "      <td>1.000000</td>\n",
              "    </tr>\n",
              "  </tbody>\n",
              "</table>\n",
              "<p>79 rows × 79 columns</p>\n",
              "</div>\n",
              "      <button class=\"colab-df-convert\" onclick=\"convertToInteractive('df-998ea02d-144e-448b-ae00-00aeb5664acb')\"\n",
              "              title=\"Convert this dataframe to an interactive table.\"\n",
              "              style=\"display:none;\">\n",
              "        \n",
              "  <svg xmlns=\"http://www.w3.org/2000/svg\" height=\"24px\"viewBox=\"0 0 24 24\"\n",
              "       width=\"24px\">\n",
              "    <path d=\"M0 0h24v24H0V0z\" fill=\"none\"/>\n",
              "    <path d=\"M18.56 5.44l.94 2.06.94-2.06 2.06-.94-2.06-.94-.94-2.06-.94 2.06-2.06.94zm-11 1L8.5 8.5l.94-2.06 2.06-.94-2.06-.94L8.5 2.5l-.94 2.06-2.06.94zm10 10l.94 2.06.94-2.06 2.06-.94-2.06-.94-.94-2.06-.94 2.06-2.06.94z\"/><path d=\"M17.41 7.96l-1.37-1.37c-.4-.4-.92-.59-1.43-.59-.52 0-1.04.2-1.43.59L10.3 9.45l-7.72 7.72c-.78.78-.78 2.05 0 2.83L4 21.41c.39.39.9.59 1.41.59.51 0 1.02-.2 1.41-.59l7.78-7.78 2.81-2.81c.8-.78.8-2.07 0-2.86zM5.41 20L4 18.59l7.72-7.72 1.47 1.35L5.41 20z\"/>\n",
              "  </svg>\n",
              "      </button>\n",
              "      \n",
              "  <style>\n",
              "    .colab-df-container {\n",
              "      display:flex;\n",
              "      flex-wrap:wrap;\n",
              "      gap: 12px;\n",
              "    }\n",
              "\n",
              "    .colab-df-convert {\n",
              "      background-color: #E8F0FE;\n",
              "      border: none;\n",
              "      border-radius: 50%;\n",
              "      cursor: pointer;\n",
              "      display: none;\n",
              "      fill: #1967D2;\n",
              "      height: 32px;\n",
              "      padding: 0 0 0 0;\n",
              "      width: 32px;\n",
              "    }\n",
              "\n",
              "    .colab-df-convert:hover {\n",
              "      background-color: #E2EBFA;\n",
              "      box-shadow: 0px 1px 2px rgba(60, 64, 67, 0.3), 0px 1px 3px 1px rgba(60, 64, 67, 0.15);\n",
              "      fill: #174EA6;\n",
              "    }\n",
              "\n",
              "    [theme=dark] .colab-df-convert {\n",
              "      background-color: #3B4455;\n",
              "      fill: #D2E3FC;\n",
              "    }\n",
              "\n",
              "    [theme=dark] .colab-df-convert:hover {\n",
              "      background-color: #434B5C;\n",
              "      box-shadow: 0px 1px 3px 1px rgba(0, 0, 0, 0.15);\n",
              "      filter: drop-shadow(0px 1px 2px rgba(0, 0, 0, 0.3));\n",
              "      fill: #FFFFFF;\n",
              "    }\n",
              "  </style>\n",
              "\n",
              "      <script>\n",
              "        const buttonEl =\n",
              "          document.querySelector('#df-998ea02d-144e-448b-ae00-00aeb5664acb button.colab-df-convert');\n",
              "        buttonEl.style.display =\n",
              "          google.colab.kernel.accessAllowed ? 'block' : 'none';\n",
              "\n",
              "        async function convertToInteractive(key) {\n",
              "          const element = document.querySelector('#df-998ea02d-144e-448b-ae00-00aeb5664acb');\n",
              "          const dataTable =\n",
              "            await google.colab.kernel.invokeFunction('convertToInteractive',\n",
              "                                                     [key], {});\n",
              "          if (!dataTable) return;\n",
              "\n",
              "          const docLinkHtml = 'Like what you see? Visit the ' +\n",
              "            '<a target=\"_blank\" href=https://colab.research.google.com/notebooks/data_table.ipynb>data table notebook</a>'\n",
              "            + ' to learn more about interactive tables.';\n",
              "          element.innerHTML = '';\n",
              "          dataTable['output_type'] = 'display_data';\n",
              "          await google.colab.output.renderOutput(dataTable, element);\n",
              "          const docLink = document.createElement('div');\n",
              "          docLink.innerHTML = docLinkHtml;\n",
              "          element.appendChild(docLink);\n",
              "        }\n",
              "      </script>\n",
              "    </div>\n",
              "  </div>\n",
              "  "
            ]
          },
          "metadata": {},
          "execution_count": 9
        }
      ],
      "source": [
        "#checking for correlation between features and target variable\n",
        "corr_data = data.corr()#.abs()['Adj Close'].sort_values(ascending=False)\n",
        "corr_data"
      ]
    },
    {
      "cell_type": "markdown",
      "id": "6896817b",
      "metadata": {
        "id": "6896817b"
      },
      "source": [
        "### Visualizing the correlation of features to the target"
      ]
    },
    {
      "cell_type": "code",
      "execution_count": null,
      "id": "46492b51",
      "metadata": {
        "scrolled": false,
        "colab": {
          "base_uri": "https://localhost:8080/",
          "height": 1000
        },
        "id": "46492b51",
        "outputId": "4429f323-ee47-435b-b64f-0773f5235597"
      },
      "outputs": [
        {
          "output_type": "display_data",
          "data": {
            "text/plain": [
              "<Figure size 800x1440 with 1 Axes>"
            ],
            "image/png": "[encoded data removed]"
          },
          "metadata": {}
        }
      ],
      "source": [
        "def plot_corr_scores(corr_data, target):\n",
        "    \"\"\"\n",
        "    Displays the horizontal bar plot showing how features are correlated with the target variable\n",
        "    corr_data: The DataFrame containing the correlation scores between all the features\n",
        "    target: The dependent variable whoes value you aim to predict\n",
        "    \"\"\"\n",
        "    scores = corr_data.abs()[target].drop(target)\n",
        "    scores = scores.sort_values(ascending=True)\n",
        "    width = np.arange(len(scores))\n",
        "    ticks = list(scores.index)\n",
        "    plt.barh(width, scores)\n",
        "    plt.yticks(width, ticks)\n",
        "    plt.title(\"Correlation of features to Target\")\n",
        "    plt.grid()\n",
        "    \n",
        "plt.figure(dpi=80, figsize=(10,18))\n",
        "plot_corr_scores(corr_data, 'Adj Close')"
      ]
    },
    {
      "cell_type": "code",
      "source": [
        "corr_data"
      ],
      "metadata": {
        "colab": {
          "base_uri": "https://localhost:8080/"
        },
        "id": "XIEveaBX7MsY",
        "outputId": "9511a0d1-db09-4eb5-d0a1-9196e590c21a"
      },
      "id": "XIEveaBX7MsY",
      "execution_count": null,
      "outputs": [
        {
          "output_type": "execute_result",
          "data": {
            "text/plain": [
              "Adj Close     1.000000\n",
              "High          0.999535\n",
              "Low           0.999532\n",
              "Open          0.998976\n",
              "GDX_Low       0.975561\n",
              "                ...   \n",
              "PLD_Trend     0.026536\n",
              "USB_Trend     0.025933\n",
              "EU_Trend      0.019913\n",
              "USDI_Trend    0.016641\n",
              "PLT_Trend     0.011355\n",
              "Name: Adj Close, Length: 79, dtype: float64"
            ]
          },
          "metadata": {},
          "execution_count": 18
        }
      ]
    },
    {
      "cell_type": "code",
      "execution_count": null,
      "id": "a1585276",
      "metadata": {
        "id": "a1585276"
      },
      "outputs": [],
      "source": [
        ""
      ]
    },
    {
      "cell_type": "markdown",
      "id": "60e47c97",
      "metadata": {
        "id": "60e47c97"
      },
      "source": [
        "## Making a dataframe of highly correlated features"
      ]
    },
    {
      "cell_type": "code",
      "execution_count": 10,
      "id": "a4a9ab6b",
      "metadata": {
        "scrolled": true,
        "colab": {
          "base_uri": "https://localhost:8080/",
          "height": 324
        },
        "id": "a4a9ab6b",
        "outputId": "f7ef871a-d5a3-48c1-bf00-ae3b1119cce5"
      },
      "outputs": [
        {
          "output_type": "execute_result",
          "data": {
            "text/plain": [
              "                  Open        High         Low   Adj Close    Volume  \\\n",
              "Date                                                                   \n",
              "2011-12-15  154.740005  154.949997  151.710007  152.330002  21521900   \n",
              "2011-12-16  154.309998  155.369995  153.899994  155.229996  18124300   \n",
              "\n",
              "               SP_open     SP_high      SP_low    SP_close  SP_Ajclose  ...  \\\n",
              "Date                                                                    ...   \n",
              "2011-12-15  123.029999  123.199997  121.989998  122.180000  105.441238  ...   \n",
              "2011-12-16  122.230003  122.949997  121.300003  121.589996  105.597549  ...   \n",
              "\n",
              "              GDX_Low  GDX_Close  GDX_Adj Close  GDX_Volume   USO_Open  \\\n",
              "Date                                                                     \n",
              "2011-12-15  51.570000      51.68      48.973877    20605600  36.900002   \n",
              "2011-12-16  52.040001      52.68      49.921513    16285400  36.180000   \n",
              "\n",
              "             USO_High    USO_Low  USO_Close  USO_Adj Close  USO_Volume  \n",
              "Date                                                                    \n",
              "2011-12-15  36.939999  36.049999  36.130001      36.130001    12616700  \n",
              "2011-12-16  36.500000  35.730000  36.270000      36.270000    12578800  \n",
              "\n",
              "[2 rows x 79 columns]"
            ],
            "text/html": [
              "\n",
              "  <div id=\"df-8972850d-9319-4f32-904f-4235884e3539\">\n",
              "    <div class=\"colab-df-container\">\n",
              "      <div>\n",
              "<style scoped>\n",
              "    .dataframe tbody tr th:only-of-type {\n",
              "        vertical-align: middle;\n",
              "    }\n",
              "\n",
              "    .dataframe tbody tr th {\n",
              "        vertical-align: top;\n",
              "    }\n",
              "\n",
              "    .dataframe thead th {\n",
              "        text-align: right;\n",
              "    }\n",
              "</style>\n",
              "<table border=\"1\" class=\"dataframe\">\n",
              "  <thead>\n",
              "    <tr style=\"text-align: right;\">\n",
              "      <th></th>\n",
              "      <th>Open</th>\n",
              "      <th>High</th>\n",
              "      <th>Low</th>\n",
              "      <th>Adj Close</th>\n",
              "      <th>Volume</th>\n",
              "      <th>SP_open</th>\n",
              "      <th>SP_high</th>\n",
              "      <th>SP_low</th>\n",
              "      <th>SP_close</th>\n",
              "      <th>SP_Ajclose</th>\n",
              "      <th>...</th>\n",
              "      <th>GDX_Low</th>\n",
              "      <th>GDX_Close</th>\n",
              "      <th>GDX_Adj Close</th>\n",
              "      <th>GDX_Volume</th>\n",
              "      <th>USO_Open</th>\n",
              "      <th>USO_High</th>\n",
              "      <th>USO_Low</th>\n",
              "      <th>USO_Close</th>\n",
              "      <th>USO_Adj Close</th>\n",
              "      <th>USO_Volume</th>\n",
              "    </tr>\n",
              "    <tr>\n",
              "      <th>Date</th>\n",
              "      <th></th>\n",
              "      <th></th>\n",
              "      <th></th>\n",
              "      <th></th>\n",
              "      <th></th>\n",
              "      <th></th>\n",
              "      <th></th>\n",
              "      <th></th>\n",
              "      <th></th>\n",
              "      <th></th>\n",
              "      <th></th>\n",
              "      <th></th>\n",
              "      <th></th>\n",
              "      <th></th>\n",
              "      <th></th>\n",
              "      <th></th>\n",
              "      <th></th>\n",
              "      <th></th>\n",
              "      <th></th>\n",
              "      <th></th>\n",
              "      <th></th>\n",
              "    </tr>\n",
              "  </thead>\n",
              "  <tbody>\n",
              "    <tr>\n",
              "      <th>2011-12-15</th>\n",
              "      <td>154.740005</td>\n",
              "      <td>154.949997</td>\n",
              "      <td>151.710007</td>\n",
              "      <td>152.330002</td>\n",
              "      <td>21521900</td>\n",
              "      <td>123.029999</td>\n",
              "      <td>123.199997</td>\n",
              "      <td>121.989998</td>\n",
              "      <td>122.180000</td>\n",
              "      <td>105.441238</td>\n",
              "      <td>...</td>\n",
              "      <td>51.570000</td>\n",
              "      <td>51.68</td>\n",
              "      <td>48.973877</td>\n",
              "      <td>20605600</td>\n",
              "      <td>36.900002</td>\n",
              "      <td>36.939999</td>\n",
              "      <td>36.049999</td>\n",
              "      <td>36.130001</td>\n",
              "      <td>36.130001</td>\n",
              "      <td>12616700</td>\n",
              "    </tr>\n",
              "    <tr>\n",
              "      <th>2011-12-16</th>\n",
              "      <td>154.309998</td>\n",
              "      <td>155.369995</td>\n",
              "      <td>153.899994</td>\n",
              "      <td>155.229996</td>\n",
              "      <td>18124300</td>\n",
              "      <td>122.230003</td>\n",
              "      <td>122.949997</td>\n",
              "      <td>121.300003</td>\n",
              "      <td>121.589996</td>\n",
              "      <td>105.597549</td>\n",
              "      <td>...</td>\n",
              "      <td>52.040001</td>\n",
              "      <td>52.68</td>\n",
              "      <td>49.921513</td>\n",
              "      <td>16285400</td>\n",
              "      <td>36.180000</td>\n",
              "      <td>36.500000</td>\n",
              "      <td>35.730000</td>\n",
              "      <td>36.270000</td>\n",
              "      <td>36.270000</td>\n",
              "      <td>12578800</td>\n",
              "    </tr>\n",
              "  </tbody>\n",
              "</table>\n",
              "<p>2 rows × 79 columns</p>\n",
              "</div>\n",
              "      <button class=\"colab-df-convert\" onclick=\"convertToInteractive('df-8972850d-9319-4f32-904f-4235884e3539')\"\n",
              "              title=\"Convert this dataframe to an interactive table.\"\n",
              "              style=\"display:none;\">\n",
              "        \n",
              "  <svg xmlns=\"http://www.w3.org/2000/svg\" height=\"24px\"viewBox=\"0 0 24 24\"\n",
              "       width=\"24px\">\n",
              "    <path d=\"M0 0h24v24H0V0z\" fill=\"none\"/>\n",
              "    <path d=\"M18.56 5.44l.94 2.06.94-2.06 2.06-.94-2.06-.94-.94-2.06-.94 2.06-2.06.94zm-11 1L8.5 8.5l.94-2.06 2.06-.94-2.06-.94L8.5 2.5l-.94 2.06-2.06.94zm10 10l.94 2.06.94-2.06 2.06-.94-2.06-.94-.94-2.06-.94 2.06-2.06.94z\"/><path d=\"M17.41 7.96l-1.37-1.37c-.4-.4-.92-.59-1.43-.59-.52 0-1.04.2-1.43.59L10.3 9.45l-7.72 7.72c-.78.78-.78 2.05 0 2.83L4 21.41c.39.39.9.59 1.41.59.51 0 1.02-.2 1.41-.59l7.78-7.78 2.81-2.81c.8-.78.8-2.07 0-2.86zM5.41 20L4 18.59l7.72-7.72 1.47 1.35L5.41 20z\"/>\n",
              "  </svg>\n",
              "      </button>\n",
              "      \n",
              "  <style>\n",
              "    .colab-df-container {\n",
              "      display:flex;\n",
              "      flex-wrap:wrap;\n",
              "      gap: 12px;\n",
              "    }\n",
              "\n",
              "    .colab-df-convert {\n",
              "      background-color: #E8F0FE;\n",
              "      border: none;\n",
              "      border-radius: 50%;\n",
              "      cursor: pointer;\n",
              "      display: none;\n",
              "      fill: #1967D2;\n",
              "      height: 32px;\n",
              "      padding: 0 0 0 0;\n",
              "      width: 32px;\n",
              "    }\n",
              "\n",
              "    .colab-df-convert:hover {\n",
              "      background-color: #E2EBFA;\n",
              "      box-shadow: 0px 1px 2px rgba(60, 64, 67, 0.3), 0px 1px 3px 1px rgba(60, 64, 67, 0.15);\n",
              "      fill: #174EA6;\n",
              "    }\n",
              "\n",
              "    [theme=dark] .colab-df-convert {\n",
              "      background-color: #3B4455;\n",
              "      fill: #D2E3FC;\n",
              "    }\n",
              "\n",
              "    [theme=dark] .colab-df-convert:hover {\n",
              "      background-color: #434B5C;\n",
              "      box-shadow: 0px 1px 3px 1px rgba(0, 0, 0, 0.15);\n",
              "      filter: drop-shadow(0px 1px 2px rgba(0, 0, 0, 0.3));\n",
              "      fill: #FFFFFF;\n",
              "    }\n",
              "  </style>\n",
              "\n",
              "      <script>\n",
              "        const buttonEl =\n",
              "          document.querySelector('#df-8972850d-9319-4f32-904f-4235884e3539 button.colab-df-convert');\n",
              "        buttonEl.style.display =\n",
              "          google.colab.kernel.accessAllowed ? 'block' : 'none';\n",
              "\n",
              "        async function convertToInteractive(key) {\n",
              "          const element = document.querySelector('#df-8972850d-9319-4f32-904f-4235884e3539');\n",
              "          const dataTable =\n",
              "            await google.colab.kernel.invokeFunction('convertToInteractive',\n",
              "                                                     [key], {});\n",
              "          if (!dataTable) return;\n",
              "\n",
              "          const docLinkHtml = 'Like what you see? Visit the ' +\n",
              "            '<a target=\"_blank\" href=https://colab.research.google.com/notebooks/data_table.ipynb>data table notebook</a>'\n",
              "            + ' to learn more about interactive tables.';\n",
              "          element.innerHTML = '';\n",
              "          dataTable['output_type'] = 'display_data';\n",
              "          await google.colab.output.renderOutput(dataTable, element);\n",
              "          const docLink = document.createElement('div');\n",
              "          docLink.innerHTML = docLinkHtml;\n",
              "          element.appendChild(docLink);\n",
              "        }\n",
              "      </script>\n",
              "    </div>\n",
              "  </div>\n",
              "  "
            ]
          },
          "metadata": {},
          "execution_count": 10
        }
      ],
      "source": [
        "#selecting features that are highly correlated with the target variable \"Adj Close\"\n",
        "high_corr_features = list(corr_data[corr_data >= 0.3].index)\n",
        "high_corr_features.insert(0, 'Date')\n",
        "\n",
        "high_corr_df = data.reset_index()[high_corr_features]\n",
        "high_corr_df.set_index('Date', inplace=True)\n",
        "high_corr_df.head(2)"
      ]
    },
    {
      "cell_type": "markdown",
      "id": "0de4383d",
      "metadata": {
        "id": "0de4383d"
      },
      "source": [
        "## Splitting the data into Train and Test sets\n",
        "Since it is a time series data, it will be splited on the time axis in order to avoid data leakage."
      ]
    },
    {
      "cell_type": "code",
      "execution_count": 11,
      "id": "5f8db6ee",
      "metadata": {
        "id": "5f8db6ee"
      },
      "outputs": [],
      "source": [
        "features_data = high_corr_df.drop('Adj Close', axis=1)\n",
        "target = high_corr_df['Adj Close']"
      ]
    },
    {
      "cell_type": "code",
      "source": [
        ""
      ],
      "metadata": {
        "id": "KIPWeiV-lbiC"
      },
      "id": "KIPWeiV-lbiC",
      "execution_count": null,
      "outputs": []
    },
    {
      "cell_type": "code",
      "execution_count": 12,
      "id": "4a0d67e0",
      "metadata": {
        "id": "4a0d67e0"
      },
      "outputs": [],
      "source": [
        "from sklearn.model_selection import train_test_split\n",
        "\n",
        "X_train, X_test, y_train, y_test = train_test_split(features_data, target, test_size=.3, shuffle=False)"
      ]
    },
    {
      "cell_type": "code",
      "source": [
        ""
      ],
      "metadata": {
        "id": "imt5XIUslxuu"
      },
      "id": "imt5XIUslxuu",
      "execution_count": null,
      "outputs": []
    },
    {
      "cell_type": "markdown",
      "id": "05abf33d",
      "metadata": {
        "id": "05abf33d"
      },
      "source": [
        "### Splitting the Train data further for training and cross validation "
      ]
    },
    {
      "cell_type": "code",
      "execution_count": 36,
      "id": "2a58abc6",
      "metadata": {
        "id": "2a58abc6"
      },
      "outputs": [],
      "source": [
        "X_train, X_val, y_train, y_val = train_test_split(X_train, y_train, test_size=.2, shuffle=False)\n"
      ]
    },
    {
      "cell_type": "markdown",
      "id": "08f6dede",
      "metadata": {
        "id": "08f6dede"
      },
      "source": [
        "## Data Normalization"
      ]
    },
    {
      "cell_type": "markdown",
      "source": [
        "USING MINMAXSCALER"
      ],
      "metadata": {
        "id": "IJNfyOgko0_A"
      },
      "id": "IJNfyOgko0_A"
    },
    {
      "cell_type": "code",
      "source": [
        "type(y_train)"
      ],
      "metadata": {
        "colab": {
          "base_uri": "https://localhost:8080/"
        },
        "id": "AwAZyACaI22s",
        "outputId": "c97ef0b7-a67e-4767-d472-9374651b7c5b"
      },
      "id": "AwAZyACaI22s",
      "execution_count": 35,
      "outputs": [
        {
          "output_type": "execute_result",
          "data": {
            "text/plain": [
              "pandas.core.series.Series"
            ]
          },
          "metadata": {},
          "execution_count": 35
        }
      ]
    },
    {
      "cell_type": "code",
      "source": [
        "from sklearn.preprocessing import MinMaxScaler\n",
        "scaler = MinMaxScaler(feature_range=(0, 1))\n",
        "norm_xtrain = scaler.fit_transform(X_train)\n",
        "norm_xval = scaler.fit_transform(X_val)\n",
        "norm_xtest = scaler.fit_transform(X_test)\n",
        "\n",
        "norm_ytrain = scaler.fit_transform(y_train.values.reshape(-1,1))\n",
        "norm_yval = scaler.fit_transform(y_val.values.reshape(-1,1))\n",
        "norm_ytest = scaler.fit_transform(y_test.values.reshape(-1,1))"
      ],
      "metadata": {
        "id": "_4gEWRU7oyS1"
      },
      "id": "_4gEWRU7oyS1",
      "execution_count": 38,
      "outputs": []
    },
    {
      "cell_type": "code",
      "source": [
        ""
      ],
      "metadata": {
        "id": "5f7dXvjWZMoR"
      },
      "id": "5f7dXvjWZMoR",
      "execution_count": 39,
      "outputs": []
    },
    {
      "cell_type": "markdown",
      "source": [
        "USING STANDARDSCALAR"
      ],
      "metadata": {
        "id": "C3YdMhaSo77D"
      },
      "id": "C3YdMhaSo77D"
    },
    {
      "cell_type": "code",
      "source": [
        "from sklearn.preprocessing import StandardScaler\n",
        "scaler = StandardScaler()\n",
        "stand_xtrain = scaler.fit_transform(X_train)\n",
        "stand_xval = scaler.fit_transform(X_val)\n",
        "stand_xtest = scaler.fit_transform(X_test)\n",
        "\n",
        "stand_ytrain = scaler.fit_transform(y_train.values.reshape(-1,1))\n",
        "stand_yval = scaler.fit_transform(y_val.values.reshape(-1,1))\n",
        "stand_ytest = scaler.fit_transform(y_test.values.reshape(-1,1))"
      ],
      "metadata": {
        "id": "uWPTR2EbocHi"
      },
      "id": "uWPTR2EbocHi",
      "execution_count": 40,
      "outputs": []
    },
    {
      "cell_type": "code",
      "execution_count": null,
      "id": "05250bae",
      "metadata": {
        "id": "05250bae"
      },
      "outputs": [],
      "source": [
        ""
      ]
    },
    {
      "cell_type": "markdown",
      "id": "570034dd",
      "metadata": {
        "id": "570034dd"
      },
      "source": [
        "## Feature Engineering"
      ]
    },
    {
      "cell_type": "code",
      "execution_count": null,
      "id": "be027495",
      "metadata": {
        "id": "be027495"
      },
      "outputs": [],
      "source": [
        ""
      ]
    },
    {
      "cell_type": "code",
      "execution_count": null,
      "id": "0d4bac2e",
      "metadata": {
        "id": "0d4bac2e"
      },
      "outputs": [],
      "source": [
        ""
      ]
    },
    {
      "cell_type": "markdown",
      "id": "2bd62e77",
      "metadata": {
        "id": "2bd62e77"
      },
      "source": [
        "## Modelling"
      ]
    },
    {
      "cell_type": "markdown",
      "source": [
        "USING HISTORIC DATA \n"
      ],
      "metadata": {
        "id": "yU4dOdLCrQhV"
      },
      "id": "yU4dOdLCrQhV"
    },
    {
      "cell_type": "code",
      "source": [
        "train_label = list(y_train)\n",
        "type(train_label)"
      ],
      "metadata": {
        "colab": {
          "base_uri": "https://localhost:8080/"
        },
        "id": "2ayUpgNktryG",
        "outputId": "ea574f96-6a39-4895-f316-ddcbc2e3372d"
      },
      "id": "2ayUpgNktryG",
      "execution_count": 16,
      "outputs": [
        {
          "output_type": "execute_result",
          "data": {
            "text/plain": [
              "list"
            ]
          },
          "metadata": {},
          "execution_count": 16
        }
      ]
    },
    {
      "cell_type": "code",
      "source": [
        "val_label = list(y_val)\n",
        "type(val_label)"
      ],
      "metadata": {
        "colab": {
          "base_uri": "https://localhost:8080/"
        },
        "id": "Er6D5XzzzX5m",
        "outputId": "c50f4656-1e7a-4696-dc4e-67c8db051e54"
      },
      "id": "Er6D5XzzzX5m",
      "execution_count": 17,
      "outputs": [
        {
          "output_type": "execute_result",
          "data": {
            "text/plain": [
              "list"
            ]
          },
          "metadata": {},
          "execution_count": 17
        }
      ]
    },
    {
      "cell_type": "code",
      "source": [
        "test_label = list(y_test)\n",
        "type(test_label)"
      ],
      "metadata": {
        "colab": {
          "base_uri": "https://localhost:8080/"
        },
        "id": "p4K9Vbv5zArv",
        "outputId": "7d93efc2-287b-4a1d-e1ac-9a94c742ba38"
      },
      "id": "p4K9Vbv5zArv",
      "execution_count": 18,
      "outputs": [
        {
          "output_type": "execute_result",
          "data": {
            "text/plain": [
              "list"
            ]
          },
          "metadata": {},
          "execution_count": 18
        }
      ]
    },
    {
      "cell_type": "code",
      "execution_count": 19,
      "id": "3fb3dc62",
      "metadata": {
        "colab": {
          "base_uri": "https://localhost:8080/"
        },
        "id": "3fb3dc62",
        "outputId": "60debb18-b22c-432d-aab9-9265783523de"
      },
      "outputs": [
        {
          "output_type": "stream",
          "name": "stdout",
          "text": [
            "(954, 7) (954,)\n"
          ]
        }
      ],
      "source": [
        "from numpy import array\n",
        " \n",
        "# split a univariate sequence into samples\n",
        "def split_sequence(sequence, n_steps):\n",
        "\tX, y = list(), list()\n",
        "\tfor i in range(len(sequence)):\n",
        "\t\t# find the end of this pattern\n",
        "\t\tend_ix = i + n_steps\n",
        "\t\t# check if we are beyond the sequence\n",
        "\t\tif end_ix > len(sequence)-1:\n",
        "\t\t\tbreak\n",
        "\t\t# gather input and output parts of the pattern\n",
        "\t\tseq_x, seq_y = sequence[i:end_ix], sequence[end_ix]\n",
        "\t\tX.append(seq_x)\n",
        "\t\ty.append(seq_y)\n",
        "\treturn array(X), array(y)\n",
        " \n",
        "\n",
        "# choose a number of time steps\n",
        "n_steps = 7\n",
        "# split into samples\n",
        "Xtrain1, ytrain1 = split_sequence(train_label, n_steps)\n",
        "# summarize the data\n",
        "print(Xtrain1.shape, ytrain1.shape)"
      ]
    },
    {
      "cell_type": "code",
      "source": [
        "Xtrain1[0], ytrain1[0]"
      ],
      "metadata": {
        "colab": {
          "base_uri": "https://localhost:8080/"
        },
        "id": "s7rDjfN5-HMb",
        "outputId": "360c1acd-4871-4e52-aa6b-561c56508a5b"
      },
      "id": "s7rDjfN5-HMb",
      "execution_count": 20,
      "outputs": [
        {
          "output_type": "execute_result",
          "data": {
            "text/plain": [
              "(array([152.330002, 155.229996, 154.869995, 156.979996, 157.160004,\n",
              "        156.039993, 156.309998]), 154.910004)"
            ]
          },
          "metadata": {},
          "execution_count": 20
        }
      ]
    },
    {
      "cell_type": "code",
      "source": [
        "# choose a number of time steps\n",
        "n_steps = 7\n",
        "# split into samples\n",
        "Xval1, yval1 = split_sequence(val_label, n_steps)\n",
        "# summarize the data\n",
        "print(Xval1.shape, yval1.shape)"
      ],
      "metadata": {
        "colab": {
          "base_uri": "https://localhost:8080/"
        },
        "id": "ssWugLykyHal",
        "outputId": "05575fcf-eda8-4f13-fdbf-5d02f7ec1519"
      },
      "id": "ssWugLykyHal",
      "execution_count": 21,
      "outputs": [
        {
          "output_type": "stream",
          "name": "stdout",
          "text": [
            "(234, 7) (234,)\n"
          ]
        }
      ]
    },
    {
      "cell_type": "code",
      "source": [
        "# choose a number of time steps\n",
        "n_steps = 7\n",
        "# split into samples\n",
        "Xtest1, ytest1 = split_sequence(test_label, n_steps)\n",
        "# summarize the data\n",
        "print(Xtest1.shape, ytest1.shape)"
      ],
      "metadata": {
        "colab": {
          "base_uri": "https://localhost:8080/"
        },
        "id": "lrp1TFfKzkgL",
        "outputId": "3e615156-4e29-40dd-dcef-fc4c41718373"
      },
      "id": "lrp1TFfKzkgL",
      "execution_count": 22,
      "outputs": [
        {
          "output_type": "stream",
          "name": "stdout",
          "text": [
            "(509, 7) (509,)\n"
          ]
        }
      ]
    },
    {
      "cell_type": "code",
      "source": [
        "from sklearn.tree import DecisionTreeRegressor\n",
        "dt = DecisionTreeRegressor(random_state=0)\n",
        "model1 = dt.fit(Xtrain1, ytrain1)\n"
      ],
      "metadata": {
        "id": "rdkfMPH50Zx9"
      },
      "id": "rdkfMPH50Zx9",
      "execution_count": 23,
      "outputs": []
    },
    {
      "cell_type": "code",
      "source": [
        "from sklearn.metrics import mean_squared_error, r2_score\n",
        "def validate_result(model,val_x, val_y):\n",
        "    predicted = model.predict(val_x)\n",
        "    RSME_score = np.sqrt(mean_squared_error(val_y, predicted))\n",
        "    print('RMSE: ', RSME_score)\n",
        "    \n",
        "    R2_score = r2_score(val_y, predicted)\n",
        "    print('R2 score: ', R2_score)"
      ],
      "metadata": {
        "id": "jGuRPe9h0ZsX"
      },
      "id": "jGuRPe9h0ZsX",
      "execution_count": 24,
      "outputs": []
    },
    {
      "cell_type": "code",
      "source": [
        "from sklearn.metrics import mean_squared_error, r2_score\n",
        "def test_result(model,test_x, test_y):\n",
        "    predicted = model.predict(test_x)\n",
        "    RSME_score = np.sqrt(mean_squared_error(test_y, predicted))\n",
        "    print('RMSE: ', RSME_score)\n",
        "    \n",
        "    R2_score = r2_score(test_y, predicted)\n",
        "    print('R2 score: ', R2_score)"
      ],
      "metadata": {
        "id": "IMNzSDaCzQx-"
      },
      "id": "IMNzSDaCzQx-",
      "execution_count": 25,
      "outputs": []
    },
    {
      "cell_type": "markdown",
      "source": [
        ""
      ],
      "metadata": {
        "id": "lnNz4ODTzQXt"
      },
      "id": "lnNz4ODTzQXt"
    },
    {
      "cell_type": "code",
      "source": [
        "validate_result(model1,Xval1, yval1)"
      ],
      "metadata": {
        "colab": {
          "base_uri": "https://localhost:8080/"
        },
        "id": "BG8BWM0M0Zn0",
        "outputId": "204c7bae-eba3-48df-ef68-a961cc9cb2de"
      },
      "id": "BG8BWM0M0Zn0",
      "execution_count": 26,
      "outputs": [
        {
          "output_type": "stream",
          "name": "stdout",
          "text": [
            "RMSE:  1.8211175400361992\n",
            "R2 score:  0.9320027171517391\n"
          ]
        }
      ]
    },
    {
      "cell_type": "code",
      "source": [
        "test_result(model1,Xtest1, ytest1)"
      ],
      "metadata": {
        "colab": {
          "base_uri": "https://localhost:8080/"
        },
        "id": "SGIrOnrPzeds",
        "outputId": "e3a77d78-4f01-4b24-b1ec-a21899e34598"
      },
      "id": "SGIrOnrPzeds",
      "execution_count": 27,
      "outputs": [
        {
          "output_type": "stream",
          "name": "stdout",
          "text": [
            "RMSE:  1.4168135415514012\n",
            "R2 score:  0.9049905367275851\n"
          ]
        }
      ]
    },
    {
      "cell_type": "code",
      "source": [
        "from sklearn.linear_model import LinearRegression\n",
        "from sklearn.ensemble import RandomForestRegressor\n",
        "from sklearn.svm import SVR\n",
        "from sklearn.tree import DecisionTreeRegressor\n",
        "from sklearn.ensemble import GradientBoostingRegressor\n",
        "from sklearn.linear_model import LassoCV\n",
        "from sklearn.linear_model import RidgeCV\n",
        "from sklearn import linear_model\n",
        "from sklearn.linear_model import SGDRegressor\n",
        "\n",
        "clf = [ LinearRegression(), DecisionTreeRegressor(random_state=0), RandomForestRegressor(random_state=0),\n",
        "       LassoCV(),  RidgeCV(), linear_model.BayesianRidge(),GradientBoostingRegressor(),\n",
        "       SGDRegressor()]\n",
        "models = [ 'LR', 'DTR', 'RFR', 'LC', 'RC', 'LMB', 'GBR', 'SGDR', ]\n",
        "\n",
        "for clf, model in zip(clf,models):\n",
        "  clf.fit ( Xtrain1, ytrain1)\n",
        "  print ( f'performance of {model} on val:')\n",
        "  validate_result(clf,Xval1, yval1)\n",
        "  print(\"\\n\")\n",
        "  print ( f'performance of {model} on test:')\n",
        "  test_result(clf,Xtest1, ytest1)\n",
        "  print(\"\\n\")"
      ],
      "metadata": {
        "colab": {
          "base_uri": "https://localhost:8080/"
        },
        "id": "djGJmqk2f83s",
        "outputId": "89c7b212-0500-40e7-e04d-dc68abbbc9dc"
      },
      "id": "djGJmqk2f83s",
      "execution_count": 43,
      "outputs": [
        {
          "output_type": "stream",
          "name": "stdout",
          "text": [
            "performance of LR on val:\n",
            "RMSE:  1.2568010452188065\n",
            "R2 score:  0.9676146443595905\n",
            "\n",
            "\n",
            "performance of LR on test:\n",
            "RMSE:  0.7504575769826886\n",
            "R2 score:  0.9733440748554945\n",
            "\n",
            "\n",
            "performance of DTR on val:\n",
            "RMSE:  1.8211175400361992\n",
            "R2 score:  0.9320027171517391\n",
            "\n",
            "\n",
            "performance of DTR on test:\n",
            "RMSE:  1.4168135415514012\n",
            "R2 score:  0.9049905367275851\n",
            "\n",
            "\n",
            "performance of RFR on val:\n",
            "RMSE:  1.3708346610711561\n",
            "R2 score:  0.9614711755967957\n",
            "\n",
            "\n",
            "performance of RFR on test:\n",
            "RMSE:  0.9048014759109121\n",
            "R2 score:  0.9612521091939668\n",
            "\n",
            "\n",
            "performance of LC on val:\n",
            "RMSE:  1.25520391725623\n",
            "R2 score:  0.9676969019172597\n",
            "\n",
            "\n",
            "performance of LC on test:\n",
            "RMSE:  0.7476059434700055\n",
            "R2 score:  0.9735462675244646\n",
            "\n",
            "\n",
            "performance of RC on val:\n",
            "RMSE:  1.2569762257567547\n",
            "R2 score:  0.9676056155965534\n",
            "\n",
            "\n",
            "performance of RC on test:\n",
            "RMSE:  0.7505064060396557\n",
            "R2 score:  0.9733406059691201\n",
            "\n",
            "\n",
            "performance of LMB on val:\n",
            "RMSE:  1.2571096312118801\n",
            "R2 score:  0.9675987390672512\n",
            "\n",
            "\n",
            "performance of LMB on test:\n",
            "RMSE:  0.7505513038374239\n",
            "R2 score:  0.9733374161658755\n",
            "\n",
            "\n",
            "performance of GBR on val:\n",
            "RMSE:  1.3181220894750256\n",
            "R2 score:  0.9643772961445031\n",
            "\n",
            "\n",
            "performance of GBR on test:\n",
            "RMSE:  0.8294124073414263\n",
            "R2 score:  0.9674401405089592\n",
            "\n",
            "\n",
            "performance of SGDR on val:\n",
            "RMSE:  74230103591837.47\n",
            "R2 score:  -1.1297327986441674e+26\n",
            "\n",
            "\n",
            "performance of SGDR on test:\n",
            "RMSE:  74127305683869.89\n",
            "R2 score:  -2.6007457448910804e+26\n",
            "\n",
            "\n"
          ]
        }
      ]
    },
    {
      "cell_type": "markdown",
      "source": [
        "#USING ALL FEATURES"
      ],
      "metadata": {
        "id": "A7uU2Bt8l7Hi"
      },
      "id": "A7uU2Bt8l7Hi"
    },
    {
      "cell_type": "code",
      "source": [
        "X = data.drop('Adj Close', axis=1)\n",
        "y = data['Adj Close']\n",
        "X_tr, X_te, y_tr, y_te = train_test_split(X, y, test_size=.3, shuffle=False)\n",
        "X_tr, X_va, y_tr, y_va = train_test_split(X_tr, y_tr, test_size=.2, shuffle=False)\n",
        "\n",
        "from sklearn.preprocessing import MinMaxScaler\n",
        "scaler = MinMaxScaler(feature_range=(0, 1))\n",
        "norm_xtr = scaler.fit_transform(X_tr)\n",
        "norm_xva = scaler.fit_transform(X_va)\n",
        "norm_xte = scaler.fit_transform(X_te)\n",
        "\n",
        "norm_ytr = scaler.fit_transform(y_tr.values.reshape(-1,1))\n",
        "norm_yva = scaler.fit_transform(y_va.values.reshape(-1,1))\n",
        "norm_yte = scaler.fit_transform(y_te.values.reshape(-1,1))\n",
        "\n",
        "from sklearn.preprocessing import StandardScaler\n",
        "scaler = StandardScaler()\n",
        "stand_xtr = scaler.fit_transform(X_tr)\n",
        "stand_xva = scaler.fit_transform(X_va)\n",
        "stand_xte = scaler.fit_transform(X_te)\n",
        "\n",
        "stand_ytr = scaler.fit_transform(y_tr.values.reshape(-1,1))\n",
        "stand_yva = scaler.fit_transform(y_va.values.reshape(-1,1))\n",
        "stand_yte = scaler.fit_transform(y_te.values.reshape(-1,1))"
      ],
      "metadata": {
        "id": "-aXvjCyXf8x7"
      },
      "id": "-aXvjCyXf8x7",
      "execution_count": 44,
      "outputs": []
    },
    {
      "cell_type": "code",
      "source": [
        "from sklearn.linear_model import LinearRegression\n",
        "from sklearn.ensemble import RandomForestRegressor\n",
        "from sklearn.svm import SVR\n",
        "from sklearn.tree import DecisionTreeRegressor\n",
        "from sklearn.ensemble import GradientBoostingRegressor\n",
        "from sklearn.linear_model import LassoCV\n",
        "from sklearn.linear_model import RidgeCV\n",
        "from sklearn import linear_model\n",
        "from sklearn.linear_model import SGDRegressor\n",
        "\n",
        "clf = [ LinearRegression(), DecisionTreeRegressor(random_state=0), RandomForestRegressor(random_state=0),\n",
        "       LassoCV(),  RidgeCV(), linear_model.BayesianRidge(),GradientBoostingRegressor(),\n",
        "       SGDRegressor()]\n",
        "models = [ 'LR', 'DTR', 'RFR', 'LC', 'RC', 'LMB', 'GBR', 'SGDR', ]\n",
        "\n",
        "for clf, model in zip(clf,models):\n",
        "  clf.fit ( X_tr, y_tr )\n",
        "  print ( f'performance of {model} on val:')\n",
        "  validate_result(clf,X_va, y_va)\n",
        "  print(\"\\n\")\n",
        "  print ( f'performance of {model} on test:')\n",
        "  test_result(clf,X_te, y_te)\n",
        "  print(\"\\n\")"
      ],
      "metadata": {
        "colab": {
          "base_uri": "https://localhost:8080/"
        },
        "id": "JQAuMR6Vf8t7",
        "outputId": "b5e8f0f7-f071-4e08-d065-eef393715504"
      },
      "id": "JQAuMR6Vf8t7",
      "execution_count": 45,
      "outputs": [
        {
          "output_type": "stream",
          "name": "stdout",
          "text": [
            "performance of LR on val:\n",
            "RMSE:  0.2949751108825062\n",
            "R2 score:  0.9984526484799827\n",
            "\n",
            "\n",
            "performance of LR on test:\n",
            "RMSE:  0.4017070713097917\n",
            "R2 score:  0.9925854776610176\n",
            "\n",
            "\n",
            "performance of DTR on val:\n",
            "RMSE:  0.7662900369687891\n",
            "R2 score:  0.989557497260499\n",
            "\n",
            "\n",
            "performance of DTR on test:\n",
            "RMSE:  0.6449630742170085\n",
            "R2 score:  0.9808867770278622\n",
            "\n",
            "\n",
            "performance of RFR on val:\n",
            "RMSE:  0.5523859221293826\n",
            "R2 score:  0.9945737044635571\n",
            "\n",
            "\n",
            "performance of RFR on test:\n",
            "RMSE:  0.31825306582956775\n",
            "R2 score:  0.9953461817692718\n",
            "\n",
            "\n",
            "performance of LC on val:\n",
            "RMSE:  24.75509561009006\n",
            "R2 score:  -9.898016367062713\n",
            "\n",
            "\n",
            "performance of LC on test:\n",
            "RMSE:  14.112519583883685\n",
            "R2 score:  -8.151100811265755\n",
            "\n",
            "\n",
            "performance of RC on val:\n",
            "RMSE:  127524.24811135698\n",
            "R2 score:  -289203657.7387929\n",
            "\n",
            "\n",
            "performance of RC on test:\n",
            "RMSE:  466836.3506622994\n",
            "R2 score:  -10013676460.637054\n",
            "\n",
            "\n",
            "performance of LMB on val:\n",
            "RMSE:  0.29784987915205763\n",
            "R2 score:  0.9984223411564516\n",
            "\n",
            "\n",
            "performance of LMB on test:\n",
            "RMSE:  0.476490314068881\n",
            "R2 score:  0.9895678847041496\n",
            "\n",
            "\n",
            "performance of GBR on val:\n",
            "RMSE:  0.6468088799580203\n",
            "R2 score:  0.9925600470846498\n",
            "\n",
            "\n",
            "performance of GBR on test:\n",
            "RMSE:  0.45688780188026024\n",
            "R2 score:  0.990408570231991\n",
            "\n",
            "\n",
            "performance of SGDR on val:\n",
            "RMSE:  7.217835777150667e+23\n",
            "R2 score:  -9.264718601790326e+45\n",
            "\n",
            "\n",
            "performance of SGDR on test:\n",
            "RMSE:  7.858601681523629e+23\n",
            "R2 score:  -2.8376235393285057e+46\n",
            "\n",
            "\n"
          ]
        }
      ]
    },
    {
      "cell_type": "code",
      "source": [
        "clf = [ LinearRegression(), DecisionTreeRegressor(random_state=0), RandomForestRegressor(random_state=0),\n",
        "       LassoCV(),  RidgeCV(), linear_model.BayesianRidge(),GradientBoostingRegressor(),\n",
        "       SGDRegressor()]\n",
        "models = [ 'LR', 'DTR', 'RFR', 'LC', 'RC', 'LMB', 'GBR', 'SGDR', ]\n",
        "\n",
        "for clf, model in zip(clf,models):\n",
        "  clf.fit ( norm_xtr, norm_ytr)\n",
        "  print ( f'performance of {model} on val:')\n",
        "  validate_result(clf,norm_xva, norm_yva)\n",
        "  print(\"\\n\")\n",
        "  print ( f'performance of {model} on test:')\n",
        "  test_result(clf,norm_xte, norm_yte)\n",
        "  print(\"\\n\")\n"
      ],
      "metadata": {
        "colab": {
          "base_uri": "https://localhost:8080/"
        },
        "id": "xynLw0xBnf4j",
        "outputId": "5c3fbbe0-fd0b-4c21-a89a-ea448513b23e"
      },
      "id": "xynLw0xBnf4j",
      "execution_count": 46,
      "outputs": [
        {
          "output_type": "stream",
          "name": "stdout",
          "text": [
            "performance of LR on val:\n",
            "RMSE:  0.010024862471588148\n",
            "R2 score:  0.9983893670556018\n",
            "\n",
            "\n",
            "performance of LR on test:\n",
            "RMSE:  0.011291572051105609\n",
            "R2 score:  0.9972945088467243\n",
            "\n",
            "\n",
            "performance of DTR on val:\n",
            "RMSE:  0.02459978359024912\n",
            "R2 score:  0.9903015505975892\n",
            "\n",
            "\n",
            "performance of DTR on test:\n",
            "RMSE:  0.022413892753536637\n",
            "R2 score:  0.9893396398503244\n",
            "\n",
            "\n"
          ]
        },
        {
          "output_type": "stream",
          "name": "stderr",
          "text": [
            "/usr/local/lib/python3.7/dist-packages/ipykernel_launcher.py:7: DataConversionWarning: A column-vector y was passed when a 1d array was expected. Please change the shape of y to (n_samples,), for example using ravel().\n",
            "  import sys\n"
          ]
        },
        {
          "output_type": "stream",
          "name": "stdout",
          "text": [
            "performance of RFR on val:\n",
            "RMSE:  0.02540148015721237\n",
            "R2 score:  0.9896591133154221\n",
            "\n",
            "\n",
            "performance of RFR on test:\n",
            "RMSE:  0.04011538643640185\n",
            "R2 score:  0.9658524729030344\n",
            "\n",
            "\n"
          ]
        },
        {
          "output_type": "stream",
          "name": "stderr",
          "text": [
            "/usr/local/lib/python3.7/dist-packages/sklearn/linear_model/_coordinate_descent.py:1571: DataConversionWarning: A column-vector y was passed when a 1d array was expected. Please change the shape of y to (n_samples, ), for example using ravel().\n",
            "  y = column_or_1d(y, warn=True)\n",
            "/usr/local/lib/python3.7/dist-packages/sklearn/linear_model/_coordinate_descent.py:648: ConvergenceWarning: Objective did not converge. You might want to increase the number of iterations, check the scale of the features or consider increasing regularisation. Duality gap: 2.162e-02, tolerance: 7.893e-03\n",
            "  coef_, l1_reg, l2_reg, X, y, max_iter, tol, rng, random, positive\n",
            "/usr/local/lib/python3.7/dist-packages/sklearn/utils/validation.py:993: DataConversionWarning: A column-vector y was passed when a 1d array was expected. Please change the shape of y to (n_samples, ), for example using ravel().\n",
            "  y = column_or_1d(y, warn=True)\n",
            "/usr/local/lib/python3.7/dist-packages/sklearn/ensemble/_gb.py:494: DataConversionWarning: A column-vector y was passed when a 1d array was expected. Please change the shape of y to (n_samples, ), for example using ravel().\n",
            "  y = column_or_1d(y, warn=True)\n"
          ]
        },
        {
          "output_type": "stream",
          "name": "stdout",
          "text": [
            "performance of LC on val:\n",
            "RMSE:  0.016596675449030204\n",
            "R2 score:  0.9955854958029573\n",
            "\n",
            "\n",
            "performance of LC on test:\n",
            "RMSE:  0.016649789345767187\n",
            "R2 score:  0.9941175968667075\n",
            "\n",
            "\n",
            "performance of RC on val:\n",
            "RMSE:  0.016969829158193703\n",
            "R2 score:  0.9953847559446517\n",
            "\n",
            "\n",
            "performance of RC on test:\n",
            "RMSE:  0.025274579180051097\n",
            "R2 score:  0.9864448238793404\n",
            "\n",
            "\n",
            "performance of LMB on val:\n",
            "RMSE:  0.009908280039087412\n",
            "R2 score:  0.9984266103950807\n",
            "\n",
            "\n",
            "performance of LMB on test:\n",
            "RMSE:  0.01121740658149253\n",
            "R2 score:  0.9973299326214942\n",
            "\n",
            "\n",
            "performance of GBR on val:\n",
            "RMSE:  0.026675898145861042\n",
            "R2 score:  0.9885954584352845\n",
            "\n",
            "\n",
            "performance of GBR on test:\n",
            "RMSE:  0.035979816224371075\n",
            "R2 score:  0.9725302201120194\n",
            "\n",
            "\n",
            "performance of SGDR on val:\n",
            "RMSE:  0.09568189228558126\n",
            "R2 score:  0.8532766471501682\n",
            "\n",
            "\n",
            "performance of SGDR on test:\n",
            "RMSE:  0.2341447579331381\n",
            "R2 score:  -0.1633387016817187\n",
            "\n",
            "\n"
          ]
        },
        {
          "output_type": "stream",
          "name": "stderr",
          "text": [
            "/usr/local/lib/python3.7/dist-packages/sklearn/utils/validation.py:993: DataConversionWarning: A column-vector y was passed when a 1d array was expected. Please change the shape of y to (n_samples, ), for example using ravel().\n",
            "  y = column_or_1d(y, warn=True)\n"
          ]
        }
      ]
    },
    {
      "cell_type": "code",
      "source": [
        "\n",
        "clf = [ LinearRegression(), DecisionTreeRegressor(random_state=0), RandomForestRegressor(random_state=0),\n",
        "       LassoCV(),  RidgeCV(), linear_model.BayesianRidge(),GradientBoostingRegressor(),\n",
        "       SGDRegressor()]\n",
        "models = [ 'LR', 'DTR', 'RFR', 'LC', 'RC', 'LMB', 'GBR', 'SGDR', ]\n",
        "\n",
        "for clf, model in zip(clf,models):\n",
        "  clf.fit ( stand_xtrain, stand_ytrain)\n",
        "  print ( f'performance of {model} on val:')\n",
        "  validate_result(clf,stand_xva, stand_yva)\n",
        "  print(\"\\n\")\n",
        "  print ( f'performance of {model} on test:')\n",
        "  test_result(clf,stand_xte, stand_yte)\n",
        "  print(\"\\n\")"
      ],
      "metadata": {
        "colab": {
          "base_uri": "https://localhost:8080/"
        },
        "id": "kKxZPl2Knf0b",
        "outputId": "01f34524-023a-4a75-ff8a-59b7ffa0e948"
      },
      "id": "kKxZPl2Knf0b",
      "execution_count": 47,
      "outputs": [
        {
          "output_type": "stream",
          "name": "stdout",
          "text": [
            "performance of LR on val:\n",
            "RMSE:  0.04652527188135837\n",
            "R2 score:  0.9978353990763656\n",
            "\n",
            "\n",
            "performance of LR on test:\n",
            "RMSE:  0.03931365654889272\n",
            "R2 score:  0.9984544364087558\n",
            "\n",
            "\n",
            "performance of DTR on val:\n",
            "RMSE:  0.2515750037122085\n",
            "R2 score:  0.9367100175072023\n",
            "\n",
            "\n",
            "performance of DTR on test:\n",
            "RMSE:  0.20388092984229758\n",
            "R2 score:  0.9584325664466401\n",
            "\n",
            "\n"
          ]
        },
        {
          "output_type": "stream",
          "name": "stderr",
          "text": [
            "/usr/local/lib/python3.7/dist-packages/ipykernel_launcher.py:7: DataConversionWarning: A column-vector y was passed when a 1d array was expected. Please change the shape of y to (n_samples,), for example using ravel().\n",
            "  import sys\n"
          ]
        },
        {
          "output_type": "stream",
          "name": "stdout",
          "text": [
            "performance of RFR on val:\n",
            "RMSE:  0.23900175408663735\n",
            "R2 score:  0.9428781615435106\n",
            "\n",
            "\n",
            "performance of RFR on test:\n",
            "RMSE:  0.196057313615548\n",
            "R2 score:  0.9615615297778547\n",
            "\n",
            "\n"
          ]
        },
        {
          "output_type": "stream",
          "name": "stderr",
          "text": [
            "/usr/local/lib/python3.7/dist-packages/sklearn/linear_model/_coordinate_descent.py:1571: DataConversionWarning: A column-vector y was passed when a 1d array was expected. Please change the shape of y to (n_samples, ), for example using ravel().\n",
            "  y = column_or_1d(y, warn=True)\n",
            "/usr/local/lib/python3.7/dist-packages/sklearn/linear_model/_coordinate_descent.py:648: ConvergenceWarning: Objective did not converge. You might want to increase the number of iterations, check the scale of the features or consider increasing regularisation. Duality gap: 1.868e-01, tolerance: 7.680e-02\n",
            "  coef_, l1_reg, l2_reg, X, y, max_iter, tol, rng, random, positive\n",
            "/usr/local/lib/python3.7/dist-packages/sklearn/utils/validation.py:993: DataConversionWarning: A column-vector y was passed when a 1d array was expected. Please change the shape of y to (n_samples, ), for example using ravel().\n",
            "  y = column_or_1d(y, warn=True)\n",
            "/usr/local/lib/python3.7/dist-packages/sklearn/ensemble/_gb.py:494: DataConversionWarning: A column-vector y was passed when a 1d array was expected. Please change the shape of y to (n_samples, ), for example using ravel().\n",
            "  y = column_or_1d(y, warn=True)\n"
          ]
        },
        {
          "output_type": "stream",
          "name": "stdout",
          "text": [
            "performance of LC on val:\n",
            "RMSE:  0.059779187942199004\n",
            "R2 score:  0.9964264486889712\n",
            "\n",
            "\n",
            "performance of LC on test:\n",
            "RMSE:  0.06294596316477151\n",
            "R2 score:  0.9960378057212592\n",
            "\n",
            "\n",
            "performance of RC on val:\n",
            "RMSE:  0.04129116756817084\n",
            "R2 score:  0.9982950394808572\n",
            "\n",
            "\n",
            "performance of RC on test:\n",
            "RMSE:  0.04288901055216679\n",
            "R2 score:  0.9981605327738561\n",
            "\n",
            "\n",
            "performance of LMB on val:\n",
            "RMSE:  0.0446244471008839\n",
            "R2 score:  0.9980086587209405\n",
            "\n",
            "\n",
            "performance of LMB on test:\n",
            "RMSE:  0.03871837117020447\n",
            "R2 score:  0.9985008877339263\n",
            "\n",
            "\n",
            "performance of GBR on val:\n",
            "RMSE:  0.2573696449182083\n",
            "R2 score:  0.9337608658746753\n",
            "\n",
            "\n",
            "performance of GBR on test:\n",
            "RMSE:  0.2546460569195804\n",
            "R2 score:  0.9351553856953098\n",
            "\n",
            "\n",
            "performance of SGDR on val:\n",
            "RMSE:  0.21180404118855775\n",
            "R2 score:  0.9551390481361958\n",
            "\n",
            "\n",
            "performance of SGDR on test:\n",
            "RMSE:  0.8002566613657458\n",
            "R2 score:  0.3595892759397501\n",
            "\n",
            "\n"
          ]
        },
        {
          "output_type": "stream",
          "name": "stderr",
          "text": [
            "/usr/local/lib/python3.7/dist-packages/sklearn/utils/validation.py:993: DataConversionWarning: A column-vector y was passed when a 1d array was expected. Please change the shape of y to (n_samples, ), for example using ravel().\n",
            "  y = column_or_1d(y, warn=True)\n"
          ]
        }
      ]
    },
    {
      "cell_type": "markdown",
      "source": [
        "#USING HIGHLY CORRELATED FEATURES"
      ],
      "metadata": {
        "id": "I73GaIqZ315i"
      },
      "id": "I73GaIqZ315i"
    },
    {
      "cell_type": "markdown",
      "source": [
        "MODELLING WITHOUT NORMALIZATION OR STANDARDIZATION"
      ],
      "metadata": {
        "id": "nC51tG3MGx9B"
      },
      "id": "nC51tG3MGx9B"
    },
    {
      "cell_type": "code",
      "source": [
        "from sklearn.tree import DecisionTreeRegressor\n",
        "dt = DecisionTreeRegressor(random_state=0)\n",
        "model2 = dt.fit(X_train, y_train)"
      ],
      "metadata": {
        "id": "NGNSn9v80Zjk"
      },
      "id": "NGNSn9v80Zjk",
      "execution_count": 28,
      "outputs": []
    },
    {
      "cell_type": "code",
      "source": [
        "validate_result(model2,X_val, y_val)"
      ],
      "metadata": {
        "colab": {
          "base_uri": "https://localhost:8080/"
        },
        "id": "9sH4we8k302J",
        "outputId": "b2e57c5e-ec78-42bd-895e-00ee798a3c17"
      },
      "id": "9sH4we8k302J",
      "execution_count": 29,
      "outputs": [
        {
          "output_type": "stream",
          "name": "stdout",
          "text": [
            "RMSE:  0.7662900369687891\n",
            "R2 score:  0.989557497260499\n"
          ]
        }
      ]
    },
    {
      "cell_type": "code",
      "source": [
        "test_result(model2,X_test, y_test)"
      ],
      "metadata": {
        "colab": {
          "base_uri": "https://localhost:8080/"
        },
        "id": "jhStlGlkfwrg",
        "outputId": "a06095a0-c28d-4ef8-c973-e45709b18464"
      },
      "id": "jhStlGlkfwrg",
      "execution_count": 30,
      "outputs": [
        {
          "output_type": "stream",
          "name": "stdout",
          "text": [
            "RMSE:  0.6449630742170085\n",
            "R2 score:  0.9808867770278622\n"
          ]
        }
      ]
    },
    {
      "cell_type": "code",
      "source": [
        "from sklearn.linear_model import LinearRegression\n",
        "from sklearn.ensemble import RandomForestRegressor\n",
        "from sklearn.svm import SVR\n",
        "from sklearn.tree import DecisionTreeRegressor\n",
        "from sklearn.ensemble import GradientBoostingRegressor\n",
        "from sklearn.linear_model import LassoCV\n",
        "from sklearn.linear_model import RidgeCV\n",
        "from sklearn import linear_model\n",
        "from sklearn.linear_model import SGDRegressor\n",
        "\n",
        "clf = [ LinearRegression(), DecisionTreeRegressor(random_state=0), RandomForestRegressor(random_state=0),\n",
        "       LassoCV(),  RidgeCV(), linear_model.BayesianRidge(),GradientBoostingRegressor(),\n",
        "       SGDRegressor()]\n",
        "models = [ 'LR', 'DTR', 'RFR', 'LC', 'RC', 'LMB', 'GBR', 'SGDR', ]\n",
        "\n",
        "for clf, model in zip(clf,models):\n",
        "  clf.fit ( X_train, y_train )\n",
        "  print ( f'performance of {model} on val:')\n",
        "  validate_result(clf,X_val, y_val)\n",
        "  print(\"\\n\")\n",
        "  print ( f'performance of {model} on test:')\n",
        "  test_result(clf,X_test, y_test)\n",
        "  print(\"\\n\")"
      ],
      "metadata": {
        "colab": {
          "base_uri": "https://localhost:8080/"
        },
        "id": "F3Lx3QUGfwiq",
        "outputId": "254acbb7-7cb8-45ce-f048-a24bc970d20a"
      },
      "id": "F3Lx3QUGfwiq",
      "execution_count": 31,
      "outputs": [
        {
          "output_type": "stream",
          "name": "stdout",
          "text": [
            "performance of LR on val:\n",
            "RMSE:  0.2949751108825062\n",
            "R2 score:  0.9984526484799827\n",
            "\n",
            "\n",
            "performance of LR on test:\n",
            "RMSE:  0.4017070713097917\n",
            "R2 score:  0.9925854776610176\n",
            "\n",
            "\n",
            "performance of DTR on val:\n",
            "RMSE:  0.7662900369687891\n",
            "R2 score:  0.989557497260499\n",
            "\n",
            "\n",
            "performance of DTR on test:\n",
            "RMSE:  0.6449630742170085\n",
            "R2 score:  0.9808867770278622\n",
            "\n",
            "\n",
            "performance of RFR on val:\n",
            "RMSE:  0.5523859221293826\n",
            "R2 score:  0.9945737044635571\n",
            "\n",
            "\n",
            "performance of RFR on test:\n",
            "RMSE:  0.31825306582956775\n",
            "R2 score:  0.9953461817692718\n",
            "\n",
            "\n",
            "performance of LC on val:\n",
            "RMSE:  24.75509561009006\n",
            "R2 score:  -9.898016367062713\n",
            "\n",
            "\n",
            "performance of LC on test:\n",
            "RMSE:  14.112519583883685\n",
            "R2 score:  -8.151100811265755\n",
            "\n",
            "\n",
            "performance of RC on val:\n",
            "RMSE:  127524.24811135698\n",
            "R2 score:  -289203657.7387929\n",
            "\n",
            "\n",
            "performance of RC on test:\n",
            "RMSE:  466836.3506622994\n",
            "R2 score:  -10013676460.637054\n",
            "\n",
            "\n",
            "performance of LMB on val:\n",
            "RMSE:  0.29784987915205763\n",
            "R2 score:  0.9984223411564516\n",
            "\n",
            "\n",
            "performance of LMB on test:\n",
            "RMSE:  0.476490314068881\n",
            "R2 score:  0.9895678847041496\n",
            "\n",
            "\n",
            "performance of GBR on val:\n",
            "RMSE:  0.6468979807807168\n",
            "R2 score:  0.992557997169736\n",
            "\n",
            "\n",
            "performance of GBR on test:\n",
            "RMSE:  0.46028653506349027\n",
            "R2 score:  0.9902653404962515\n",
            "\n",
            "\n",
            "performance of SGDR on val:\n",
            "RMSE:  1.5882331415919303e+25\n",
            "R2 score:  -4.485870666348429e+48\n",
            "\n",
            "\n",
            "performance of SGDR on test:\n",
            "RMSE:  1.2893480809817177e+25\n",
            "R2 score:  -7.638438405074692e+48\n",
            "\n",
            "\n"
          ]
        }
      ]
    },
    {
      "cell_type": "markdown",
      "source": [
        "##From above it can be seen that Random Forest Regressor  had the best RMSE of 0.31825 and R squared result of 0.99535"
      ],
      "metadata": {
        "id": "tgftylJNF2d7"
      },
      "id": "tgftylJNF2d7"
    },
    {
      "cell_type": "markdown",
      "source": [
        "MODELLING WITH NORMALIZED DATA"
      ],
      "metadata": {
        "id": "p8NwBDDBGvaE"
      },
      "id": "p8NwBDDBGvaE"
    },
    {
      "cell_type": "code",
      "source": [
        "from sklearn.linear_model import LinearRegression\n",
        "from sklearn.ensemble import RandomForestRegressor\n",
        "from sklearn.svm import SVR\n",
        "from sklearn.tree import DecisionTreeRegressor\n",
        "from sklearn.ensemble import GradientBoostingRegressor\n",
        "from sklearn.linear_model import LassoCV\n",
        "from sklearn.linear_model import RidgeCV\n",
        "from sklearn import linear_model\n",
        "from sklearn.linear_model import SGDRegressor\n",
        "\n",
        "clf = [ LinearRegression(), DecisionTreeRegressor(random_state=0), RandomForestRegressor(random_state=0),\n",
        "       LassoCV(),  RidgeCV(), linear_model.BayesianRidge(),GradientBoostingRegressor(),\n",
        "       SGDRegressor()]\n",
        "models = [ 'LR', 'DTR', 'RFR', 'LC', 'RC', 'LMB', 'GBR', 'SGDR', ]\n",
        "\n",
        "for clf, model in zip(clf,models):\n",
        "  clf.fit ( norm_xtrain, norm_ytrain)\n",
        "  print ( f'performance of {model} on val:')\n",
        "  validate_result(clf,norm_xval, norm_yval)\n",
        "  print(\"\\n\")\n",
        "  print ( f'performance of {model} on test:')\n",
        "  test_result(clf,norm_xtest, norm_ytest)\n",
        "  print(\"\\n\")"
      ],
      "metadata": {
        "id": "OIso7kTbfwfV",
        "colab": {
          "base_uri": "https://localhost:8080/"
        },
        "outputId": "811a003e-8546-4b17-9bea-c42d1b355eb2"
      },
      "id": "OIso7kTbfwfV",
      "execution_count": 41,
      "outputs": [
        {
          "output_type": "stream",
          "name": "stdout",
          "text": [
            "performance of LR on val:\n",
            "RMSE:  0.014727942339005689\n",
            "R2 score:  0.9967033515851088\n",
            "\n",
            "\n",
            "performance of LR on test:\n",
            "RMSE:  0.012680119872965382\n",
            "R2 score:  0.9965881964525913\n",
            "\n",
            "\n",
            "performance of DTR on val:\n",
            "RMSE:  0.03725954902632691\n",
            "R2 score:  0.9789009126469295\n",
            "\n",
            "\n",
            "performance of DTR on test:\n",
            "RMSE:  0.044086374773869966\n",
            "R2 score:  0.9587573963596518\n",
            "\n",
            "\n"
          ]
        },
        {
          "output_type": "stream",
          "name": "stderr",
          "text": [
            "/usr/local/lib/python3.7/dist-packages/ipykernel_launcher.py:17: DataConversionWarning: A column-vector y was passed when a 1d array was expected. Please change the shape of y to (n_samples,), for example using ravel().\n"
          ]
        },
        {
          "output_type": "stream",
          "name": "stdout",
          "text": [
            "performance of RFR on val:\n",
            "RMSE:  0.032873448239791075\n",
            "R2 score:  0.9835759974020757\n",
            "\n",
            "\n",
            "performance of RFR on test:\n",
            "RMSE:  0.05787062578682566\n",
            "R2 score:  0.9289353444605434\n",
            "\n",
            "\n"
          ]
        },
        {
          "output_type": "stream",
          "name": "stderr",
          "text": [
            "/usr/local/lib/python3.7/dist-packages/sklearn/linear_model/_coordinate_descent.py:1571: DataConversionWarning: A column-vector y was passed when a 1d array was expected. Please change the shape of y to (n_samples, ), for example using ravel().\n",
            "  y = column_or_1d(y, warn=True)\n",
            "/usr/local/lib/python3.7/dist-packages/sklearn/linear_model/_coordinate_descent.py:648: ConvergenceWarning: Objective did not converge. You might want to increase the number of iterations, check the scale of the features or consider increasing regularisation. Duality gap: 1.835e-02, tolerance: 6.958e-03\n",
            "  coef_, l1_reg, l2_reg, X, y, max_iter, tol, rng, random, positive\n",
            "/usr/local/lib/python3.7/dist-packages/sklearn/utils/validation.py:993: DataConversionWarning: A column-vector y was passed when a 1d array was expected. Please change the shape of y to (n_samples, ), for example using ravel().\n",
            "  y = column_or_1d(y, warn=True)\n",
            "/usr/local/lib/python3.7/dist-packages/sklearn/ensemble/_gb.py:494: DataConversionWarning: A column-vector y was passed when a 1d array was expected. Please change the shape of y to (n_samples, ), for example using ravel().\n",
            "  y = column_or_1d(y, warn=True)\n"
          ]
        },
        {
          "output_type": "stream",
          "name": "stdout",
          "text": [
            "performance of LC on val:\n",
            "RMSE:  0.020813142201501746\n",
            "R2 score:  0.9934163947187067\n",
            "\n",
            "\n",
            "performance of LC on test:\n",
            "RMSE:  0.017740000429009768\n",
            "R2 score:  0.9933220286733879\n",
            "\n",
            "\n",
            "performance of RC on val:\n",
            "RMSE:  0.029857353556162012\n",
            "R2 score:  0.9864515034917393\n",
            "\n",
            "\n",
            "performance of RC on test:\n",
            "RMSE:  0.029759085998626412\n",
            "R2 score:  0.9812078498047059\n",
            "\n",
            "\n",
            "performance of LMB on val:\n",
            "RMSE:  0.01423772924432244\n",
            "R2 score:  0.9969191543439033\n",
            "\n",
            "\n",
            "performance of LMB on test:\n",
            "RMSE:  0.012319357628345785\n",
            "R2 score:  0.9967795732621646\n",
            "\n",
            "\n",
            "performance of GBR on val:\n",
            "RMSE:  0.023571265694099296\n",
            "R2 score:  0.9915558820993845\n",
            "\n",
            "\n",
            "performance of GBR on test:\n",
            "RMSE:  0.025269625658678976\n",
            "R2 score:  0.9864501366700491\n",
            "\n",
            "\n",
            "performance of SGDR on val:\n",
            "RMSE:  0.10515929769746\n",
            "R2 score:  0.831932462822153\n",
            "\n",
            "\n",
            "performance of SGDR on test:\n",
            "RMSE:  0.23626182248858663\n",
            "R2 score:  -0.18447090533966826\n",
            "\n",
            "\n"
          ]
        },
        {
          "output_type": "stream",
          "name": "stderr",
          "text": [
            "/usr/local/lib/python3.7/dist-packages/sklearn/utils/validation.py:993: DataConversionWarning: A column-vector y was passed when a 1d array was expected. Please change the shape of y to (n_samples, ), for example using ravel().\n",
            "  y = column_or_1d(y, warn=True)\n"
          ]
        }
      ]
    },
    {
      "cell_type": "markdown",
      "source": [
        "##From above it can be seen that Linear model bayesianRidge had the best RMSE of 0.01232 and R square result of 0.99156"
      ],
      "metadata": {
        "id": "FUawu8bochn2"
      },
      "id": "FUawu8bochn2"
    },
    {
      "cell_type": "markdown",
      "source": [
        "MODELLING WITH NORMALIZED DATA"
      ],
      "metadata": {
        "id": "atkwiRlJc2cx"
      },
      "id": "atkwiRlJc2cx"
    },
    {
      "cell_type": "code",
      "source": [
        "from sklearn.linear_model import LinearRegression\n",
        "from sklearn.ensemble import RandomForestRegressor\n",
        "from sklearn.svm import SVR\n",
        "from sklearn.tree import DecisionTreeRegressor\n",
        "from sklearn.ensemble import GradientBoostingRegressor\n",
        "from sklearn.linear_model import LassoCV\n",
        "from sklearn.linear_model import RidgeCV\n",
        "from sklearn import linear_model\n",
        "from sklearn.linear_model import SGDRegressor\n",
        "\n",
        "clf = [ LinearRegression(), DecisionTreeRegressor(random_state=0), RandomForestRegressor(random_state=0),\n",
        "       LassoCV(),  RidgeCV(), linear_model.BayesianRidge(),GradientBoostingRegressor(),\n",
        "       SGDRegressor()]\n",
        "models = [ 'LR', 'DTR', 'RFR', 'LC', 'RC', 'LMB', 'GBR', 'SGDR', ]\n",
        "\n",
        "for clf, model in zip(clf,models):\n",
        "  clf.fit ( stand_xtrain, stand_ytrain)\n",
        "  print ( f'performance of {model} on val:')\n",
        "  validate_result(clf,stand_xval, stand_yval)\n",
        "  print(\"\\n\")\n",
        "  print ( f'performance of {model} on test:')\n",
        "  test_result(clf,stand_xtest, stand_ytest)\n",
        "  print(\"\\n\")"
      ],
      "metadata": {
        "id": "WDJ1NMeNfwcN",
        "colab": {
          "base_uri": "https://localhost:8080/"
        },
        "outputId": "85f03be4-de8e-4b83-9b32-d1de55944b93"
      },
      "id": "WDJ1NMeNfwcN",
      "execution_count": 42,
      "outputs": [
        {
          "output_type": "stream",
          "name": "stdout",
          "text": [
            "performance of LR on val:\n",
            "RMSE:  0.046080535132086695\n",
            "R2 score:  0.9978765842819405\n",
            "\n",
            "\n",
            "performance of LR on test:\n",
            "RMSE:  0.03931365654889272\n",
            "R2 score:  0.9984544364087558\n",
            "\n",
            "\n",
            "performance of DTR on val:\n",
            "RMSE:  0.16336721938153437\n",
            "R2 score:  0.9733111516315456\n",
            "\n",
            "\n",
            "performance of DTR on test:\n",
            "RMSE:  0.20388092984229758\n",
            "R2 score:  0.9584325664466401\n",
            "\n",
            "\n"
          ]
        },
        {
          "output_type": "stream",
          "name": "stderr",
          "text": [
            "/usr/local/lib/python3.7/dist-packages/ipykernel_launcher.py:17: DataConversionWarning: A column-vector y was passed when a 1d array was expected. Please change the shape of y to (n_samples,), for example using ravel().\n"
          ]
        },
        {
          "output_type": "stream",
          "name": "stdout",
          "text": [
            "performance of RFR on val:\n",
            "RMSE:  0.1277837971342616\n",
            "R2 score:  0.9836713011899498\n",
            "\n",
            "\n",
            "performance of RFR on test:\n",
            "RMSE:  0.196057313615548\n",
            "R2 score:  0.9615615297778547\n",
            "\n",
            "\n"
          ]
        },
        {
          "output_type": "stream",
          "name": "stderr",
          "text": [
            "/usr/local/lib/python3.7/dist-packages/sklearn/linear_model/_coordinate_descent.py:1571: DataConversionWarning: A column-vector y was passed when a 1d array was expected. Please change the shape of y to (n_samples, ), for example using ravel().\n",
            "  y = column_or_1d(y, warn=True)\n",
            "/usr/local/lib/python3.7/dist-packages/sklearn/linear_model/_coordinate_descent.py:648: ConvergenceWarning: Objective did not converge. You might want to increase the number of iterations, check the scale of the features or consider increasing regularisation. Duality gap: 1.868e-01, tolerance: 7.680e-02\n",
            "  coef_, l1_reg, l2_reg, X, y, max_iter, tol, rng, random, positive\n",
            "/usr/local/lib/python3.7/dist-packages/sklearn/utils/validation.py:993: DataConversionWarning: A column-vector y was passed when a 1d array was expected. Please change the shape of y to (n_samples, ), for example using ravel().\n",
            "  y = column_or_1d(y, warn=True)\n",
            "/usr/local/lib/python3.7/dist-packages/sklearn/ensemble/_gb.py:494: DataConversionWarning: A column-vector y was passed when a 1d array was expected. Please change the shape of y to (n_samples, ), for example using ravel().\n",
            "  y = column_or_1d(y, warn=True)\n"
          ]
        },
        {
          "output_type": "stream",
          "name": "stdout",
          "text": [
            "performance of LC on val:\n",
            "RMSE:  0.06742121336052825\n",
            "R2 score:  0.9954543799889941\n",
            "\n",
            "\n",
            "performance of LC on test:\n",
            "RMSE:  0.06294596316477151\n",
            "R2 score:  0.9960378057212592\n",
            "\n",
            "\n",
            "performance of RC on val:\n",
            "RMSE:  0.0462195215470513\n",
            "R2 score:  0.9978637558279616\n",
            "\n",
            "\n",
            "performance of RC on test:\n",
            "RMSE:  0.04288901055216679\n",
            "R2 score:  0.9981605327738561\n",
            "\n",
            "\n",
            "performance of LMB on val:\n",
            "RMSE:  0.04531163684220853\n",
            "R2 score:  0.9979468555666798\n",
            "\n",
            "\n",
            "performance of LMB on test:\n",
            "RMSE:  0.03871837117020447\n",
            "R2 score:  0.9985008877339263\n",
            "\n",
            "\n",
            "performance of GBR on val:\n",
            "RMSE:  0.1292814875778332\n",
            "R2 score:  0.9832862969696625\n",
            "\n",
            "\n",
            "performance of GBR on test:\n",
            "RMSE:  0.24030311708577373\n",
            "R2 score:  0.942254411918861\n",
            "\n",
            "\n",
            "performance of SGDR on val:\n",
            "RMSE:  0.2570741088263181\n",
            "R2 score:  0.9339129025711543\n",
            "\n",
            "\n",
            "performance of SGDR on test:\n",
            "RMSE:  0.7909321710401086\n",
            "R2 score:  0.3744263008137805\n",
            "\n",
            "\n"
          ]
        },
        {
          "output_type": "stream",
          "name": "stderr",
          "text": [
            "/usr/local/lib/python3.7/dist-packages/sklearn/utils/validation.py:993: DataConversionWarning: A column-vector y was passed when a 1d array was expected. Please change the shape of y to (n_samples, ), for example using ravel().\n",
            "  y = column_or_1d(y, warn=True)\n"
          ]
        }
      ]
    },
    {
      "cell_type": "markdown",
      "source": [
        "##From above it can be seen that Linear model bayesianRidge had the best RMSE of 0.03872 and R square result of 0.99850"
      ],
      "metadata": {
        "id": "3PrnNjcUevkl"
      },
      "id": "3PrnNjcUevkl"
    },
    {
      "cell_type": "markdown",
      "id": "8099434b",
      "metadata": {
        "id": "8099434b"
      },
      "source": [
        "## Model Evaluation"
      ]
    },
    {
      "cell_type": "code",
      "execution_count": null,
      "id": "a53e2e3a",
      "metadata": {
        "id": "a53e2e3a"
      },
      "outputs": [],
      "source": [
        ""
      ]
    },
    {
      "cell_type": "code",
      "execution_count": null,
      "id": "c0261d97",
      "metadata": {
        "id": "c0261d97"
      },
      "outputs": [],
      "source": [
        ""
      ]
    },
    {
      "cell_type": "markdown",
      "id": "daac5673",
      "metadata": {
        "id": "daac5673"
      },
      "source": [
        "## Comparison (Tabular form)"
      ]
    },
    {
      "cell_type": "code",
      "execution_count": null,
      "id": "aa0f174c",
      "metadata": {
        "id": "aa0f174c"
      },
      "outputs": [],
      "source": [
        ""
      ]
    },
    {
      "cell_type": "code",
      "execution_count": null,
      "id": "1141fbf7",
      "metadata": {
        "id": "1141fbf7"
      },
      "outputs": [],
      "source": [
        ""
      ]
    }
  ],
  "metadata": {
    "kernelspec": {
      "display_name": "Python 3 (ipykernel)",
      "language": "python",
      "name": "python3"
    },
    "language_info": {
      "codemirror_mode": {
        "name": "ipython",
        "version": 3
      },
      "file_extension": ".py",
      "mimetype": "text/x-python",
      "name": "python",
      "nbconvert_exporter": "python",
      "pygments_lexer": "ipython3",
      "version": "3.9.12"
    },
    "colab": {
      "name": "Gold-price-by-Team-sql.ipynb",
      "provenance": [],
      "collapsed_sections": [
        "f8cac329",
        "1e7bd970",
        "a850e498",
        "10bd8f1b",
        "fc243a83"
      ]
    }
  },
  "nbformat": 4,
  "nbformat_minor": 5
}